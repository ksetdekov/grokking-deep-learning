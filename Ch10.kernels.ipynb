{
 "cells": [
  {
   "cell_type": "markdown",
   "id": "37258430",
   "metadata": {},
   "source": [
    "imports"
   ]
  },
  {
   "cell_type": "code",
   "execution_count": 1,
   "id": "a07481c7",
   "metadata": {},
   "outputs": [
    {
     "name": "stderr",
     "output_type": "stream",
     "text": [
      "/Users/ksetdekov/Code/grokking-deep-learning/venv/lib/python3.9/site-packages/urllib3/__init__.py:35: NotOpenSSLWarning: urllib3 v2 only supports OpenSSL 1.1.1+, currently the 'ssl' module is compiled with 'LibreSSL 2.8.3'. See: https://github.com/urllib3/urllib3/issues/3020\n",
      "  warnings.warn(\n"
     ]
    }
   ],
   "source": [
    "import numpy as np, sys\n",
    "\n",
    "np.random.seed(1)\n",
    "\n",
    "from keras.datasets import mnist\n",
    "\n"
   ]
  },
  {
   "cell_type": "code",
   "execution_count": 2,
   "id": "42c791c5",
   "metadata": {},
   "outputs": [],
   "source": [
    "# (x_train, y_train), (x_test, y_test) = mnist.load_data()\n",
    "\n",
    "# images, labels = (x_train[0:1000].reshape(1000,28*28) / 255,\n",
    "#                   y_train[0:1000])\n",
    "\n",
    "\n",
    "# one_hot_labels = np.zeros((len(labels),10))\n",
    "# for i,l in enumerate(labels):\n",
    "#     one_hot_labels[i][l] = 1\n",
    "# labels = one_hot_labels\n",
    "\n",
    "# test_images = x_test.reshape(len(x_test),28*28) / 255\n",
    "# test_labels = np.zeros((len(y_test),10))\n",
    "# for i,l in enumerate(y_test):\n",
    "#     test_labels[i][l] = 1\n",
    "\n",
    "# def tanh(x):\n",
    "#     return np.tanh(x)\n",
    "\n",
    "# def tanh2deriv(output):\n",
    "#     return 1 - (output ** 2)\n",
    "\n",
    "# def softmax(x):\n",
    "#     temp = np.exp(x)\n",
    "#     return temp / np.sum(temp, axis=1, keepdims=True)\n",
    "\n",
    "# alpha, iterations = (2, 300)\n",
    "# pixels_per_image, num_labels = (784, 10)\n",
    "# batch_size = 128\n",
    "\n",
    "# input_rows = 28\n",
    "# input_cols = 28\n",
    "\n",
    "# kernel_rows = 3\n",
    "# kernel_cols = 3\n",
    "# num_kernels = 16\n",
    "\n",
    "# hidden_size = ((input_rows - kernel_rows) *\n",
    "#                (input_cols - kernel_cols)) * num_kernels\n",
    "\n",
    "# kernels = 0.02*np.random.random((kernel_rows*kernel_cols,\n",
    "#                                  num_kernels))-0.01\n",
    "\n",
    "# weights_1_2 = 0.2*np.random.random((hidden_size,\n",
    "#                                     num_labels)) - 0.1\n",
    "\n",
    "\n",
    "\n",
    "# def get_image_section(layer,row_from, row_to, col_from, col_to):\n",
    "#     section = layer[:,row_from:row_to,col_from:col_to]\n",
    "#     return section.reshape(-1,1,row_to-row_from, col_to-col_from)\n",
    "\n",
    "# for j in range(iterations):\n",
    "#     correct_cnt = 0\n",
    "#     for i in range(int(len(images) / batch_size)):\n",
    "#         batch_start, batch_end=((i * batch_size),((i+1)*batch_size))\n",
    "#         layer_0 = images[batch_start:batch_end]\n",
    "#         layer_0 = layer_0.reshape(layer_0.shape[0],28,28)\n",
    "#         layer_0.shape\n",
    "\n",
    "#         sects = list()\n",
    "#         for row_start in range(layer_0.shape[1]-kernel_rows):\n",
    "#             for col_start in range(layer_0.shape[2] - kernel_cols):\n",
    "#                 sect = get_image_section(layer_0,\n",
    "#                                          row_start,\n",
    "#                                          row_start+kernel_rows,\n",
    "#                                          col_start,\n",
    "#                                          col_start+kernel_cols)\n",
    "#                 sects.append(sect)\n",
    "\n",
    "#         expanded_input = np.concatenate(sects,axis=1)\n",
    "#         es = expanded_input.shape\n",
    "#         flattened_input = expanded_input.reshape(es[0]*es[1],-1)\n",
    "\n",
    "#         kernel_output = flattened_input.dot(kernels)\n",
    "#         layer_1 = tanh(kernel_output.reshape(es[0],-1))\n",
    "#         dropout_mask = np.random.randint(2,size=layer_1.shape)\n",
    "#         layer_1 *= dropout_mask * 2\n",
    "#         layer_2 = softmax(np.dot(layer_1,weights_1_2))\n",
    "\n",
    "#         for k in range(batch_size):\n",
    "#             labelset = labels[batch_start+k:batch_start+k+1]\n",
    "#             _inc = int(np.argmax(layer_2[k:k+1]) ==\n",
    "#                                np.argmax(labelset))\n",
    "#             correct_cnt += _inc\n",
    "\n",
    "#         layer_2_delta = (labels[batch_start:batch_end]-layer_2)\\\n",
    "#                         / (batch_size * layer_2.shape[0])\n",
    "#         layer_1_delta = layer_2_delta.dot(weights_1_2.T) * \\\n",
    "#                         tanh2deriv(layer_1)\n",
    "#         layer_1_delta *= dropout_mask\n",
    "#         weights_1_2 += alpha * layer_1.T.dot(layer_2_delta)\n",
    "#         l1d_reshape = layer_1_delta.reshape(kernel_output.shape)\n",
    "#         k_update = flattened_input.T.dot(l1d_reshape)\n",
    "#         kernels -= alpha * k_update\n",
    "\n",
    "#     test_correct_cnt = 0\n",
    "\n",
    "#     for i in range(len(test_images)):\n",
    "\n",
    "#         layer_0 = test_images[i:i+1]\n",
    "#         layer_0 = layer_0.reshape(layer_0.shape[0],28,28)\n",
    "#         layer_0.shape\n",
    "\n",
    "#         sects = list()\n",
    "#         for row_start in range(layer_0.shape[1]-kernel_rows):\n",
    "#             for col_start in range(layer_0.shape[2] - kernel_cols):\n",
    "#                 sect = get_image_section(layer_0,\n",
    "#                                          row_start,\n",
    "#                                          row_start+kernel_rows,\n",
    "#                                          col_start,\n",
    "#                                          col_start+kernel_cols)\n",
    "#                 sects.append(sect)\n",
    "\n",
    "#         expanded_input = np.concatenate(sects,axis=1)\n",
    "#         es = expanded_input.shape\n",
    "#         flattened_input = expanded_input.reshape(es[0]*es[1],-1)\n",
    "\n",
    "#         kernel_output = flattened_input.dot(kernels)\n",
    "#         layer_1 = tanh(kernel_output.reshape(es[0],-1))\n",
    "#         layer_2 = np.dot(layer_1,weights_1_2)\n",
    "\n",
    "#         test_correct_cnt += int(np.argmax(layer_2) ==\n",
    "#                                 np.argmax(test_labels[i:i+1]))\n",
    "#     if(j % 1 == 0):\n",
    "#         sys.stdout.write(\"\\n\"+ \\\n",
    "#          \"I:\" + str(j) + \\\n",
    "#          \" Test-Acc:\"+str(test_correct_cnt/float(len(test_images)))+\\\n",
    "#          \" Train-Acc:\" + str(correct_cnt/float(len(images))))"
   ]
  },
  {
   "cell_type": "code",
   "execution_count": 3,
   "id": "3f42f5ea",
   "metadata": {},
   "outputs": [
    {
     "name": "stderr",
     "output_type": "stream",
     "text": [
      "Using default `ModelCheckpoint`. Consider installing `litmodels` package to enable `LitModelCheckpoint` for automatic upload to the Lightning model registry.\n",
      "GPU available: True (mps), used: True\n",
      "TPU available: False, using: 0 TPU cores\n",
      "HPU available: False, using: 0 HPUs\n",
      "\n",
      "  | Name    | Type    | Params | Mode \n",
      "--------------------------------------------\n",
      "0 | conv    | Conv2d  | 160    | train\n",
      "1 | dropout | Dropout | 0      | train\n",
      "2 | fc      | Linear  | 108 K  | train\n",
      "--------------------------------------------\n",
      "108 K     Trainable params\n",
      "0         Non-trainable params\n",
      "108 K     Total params\n",
      "0.433     Total estimated model params size (MB)\n",
      "3         Modules in train mode\n",
      "0         Modules in eval mode\n"
     ]
    },
    {
     "name": "stdout",
     "output_type": "stream",
     "text": [
      "Epoch 0: 100%|██████████| 469/469 [00:06<00:00, 75.41it/s, v_num=11, train_loss=0.351, train_acc=0.875, val_loss=0.309, val_acc=0.911]"
     ]
    },
    {
     "name": "stderr",
     "output_type": "stream",
     "text": [
      "Metric val_loss improved. New best score: 0.309\n"
     ]
    },
    {
     "name": "stdout",
     "output_type": "stream",
     "text": [
      "Epoch 1: 100%|██████████| 469/469 [00:04<00:00, 112.05it/s, v_num=11, train_loss=0.234, train_acc=0.917, val_loss=0.289, val_acc=0.915]"
     ]
    },
    {
     "name": "stderr",
     "output_type": "stream",
     "text": [
      "Metric val_loss improved by 0.020 >= min_delta = 0.0. New best score: 0.289\n"
     ]
    },
    {
     "name": "stdout",
     "output_type": "stream",
     "text": [
      "Epoch 2: 100%|██████████| 469/469 [00:04<00:00, 114.15it/s, v_num=11, train_loss=0.284, train_acc=0.917, val_loss=0.286, val_acc=0.921]"
     ]
    },
    {
     "name": "stderr",
     "output_type": "stream",
     "text": [
      "Metric val_loss improved by 0.003 >= min_delta = 0.0. New best score: 0.286\n"
     ]
    },
    {
     "name": "stdout",
     "output_type": "stream",
     "text": [
      "Epoch 4: 100%|██████████| 469/469 [00:04<00:00, 112.60it/s, v_num=11, train_loss=0.410, train_acc=0.875, val_loss=0.277, val_acc=0.920]"
     ]
    },
    {
     "name": "stderr",
     "output_type": "stream",
     "text": [
      "Metric val_loss improved by 0.009 >= min_delta = 0.0. New best score: 0.277\n"
     ]
    },
    {
     "name": "stdout",
     "output_type": "stream",
     "text": [
      "Epoch 5: 100%|██████████| 469/469 [00:04<00:00, 114.13it/s, v_num=11, train_loss=0.304, train_acc=0.927, val_loss=0.270, val_acc=0.924]"
     ]
    },
    {
     "name": "stderr",
     "output_type": "stream",
     "text": [
      "Metric val_loss improved by 0.007 >= min_delta = 0.0. New best score: 0.270\n"
     ]
    },
    {
     "name": "stdout",
     "output_type": "stream",
     "text": [
      "Epoch 8: 100%|██████████| 469/469 [00:04<00:00, 111.36it/s, v_num=11, train_loss=0.300, train_acc=0.896, val_loss=0.266, val_acc=0.925]"
     ]
    },
    {
     "name": "stderr",
     "output_type": "stream",
     "text": [
      "Metric val_loss improved by 0.004 >= min_delta = 0.0. New best score: 0.266\n"
     ]
    },
    {
     "name": "stdout",
     "output_type": "stream",
     "text": [
      "Epoch 10: 100%|██████████| 469/469 [00:04<00:00, 110.06it/s, v_num=11, train_loss=0.218, train_acc=0.948, val_loss=0.261, val_acc=0.927] "
     ]
    },
    {
     "name": "stderr",
     "output_type": "stream",
     "text": [
      "Metric val_loss improved by 0.005 >= min_delta = 0.0. New best score: 0.261\n"
     ]
    },
    {
     "name": "stdout",
     "output_type": "stream",
     "text": [
      "Epoch 12: 100%|██████████| 469/469 [00:03<00:00, 118.25it/s, v_num=11, train_loss=0.160, train_acc=0.958, val_loss=0.245, val_acc=0.933]"
     ]
    },
    {
     "name": "stderr",
     "output_type": "stream",
     "text": [
      "Metric val_loss improved by 0.017 >= min_delta = 0.0. New best score: 0.245\n"
     ]
    },
    {
     "name": "stdout",
     "output_type": "stream",
     "text": [
      "Epoch 14: 100%|██████████| 469/469 [00:03<00:00, 119.28it/s, v_num=11, train_loss=0.234, train_acc=0.927, val_loss=0.234, val_acc=0.936]"
     ]
    },
    {
     "name": "stderr",
     "output_type": "stream",
     "text": [
      "Metric val_loss improved by 0.010 >= min_delta = 0.0. New best score: 0.234\n"
     ]
    },
    {
     "name": "stdout",
     "output_type": "stream",
     "text": [
      "Epoch 15: 100%|██████████| 469/469 [00:03<00:00, 119.41it/s, v_num=11, train_loss=0.270, train_acc=0.917, val_loss=0.232, val_acc=0.936] "
     ]
    },
    {
     "name": "stderr",
     "output_type": "stream",
     "text": [
      "Metric val_loss improved by 0.003 >= min_delta = 0.0. New best score: 0.232\n"
     ]
    },
    {
     "name": "stdout",
     "output_type": "stream",
     "text": [
      "Epoch 16: 100%|██████████| 469/469 [00:03<00:00, 119.74it/s, v_num=11, train_loss=0.246, train_acc=0.906, val_loss=0.210, val_acc=0.943]"
     ]
    },
    {
     "name": "stderr",
     "output_type": "stream",
     "text": [
      "Metric val_loss improved by 0.022 >= min_delta = 0.0. New best score: 0.210\n"
     ]
    },
    {
     "name": "stdout",
     "output_type": "stream",
     "text": [
      "Epoch 18: 100%|██████████| 469/469 [00:03<00:00, 118.45it/s, v_num=11, train_loss=0.254, train_acc=0.938, val_loss=0.185, val_acc=0.948] "
     ]
    },
    {
     "name": "stderr",
     "output_type": "stream",
     "text": [
      "Metric val_loss improved by 0.025 >= min_delta = 0.0. New best score: 0.185\n"
     ]
    },
    {
     "name": "stdout",
     "output_type": "stream",
     "text": [
      "Epoch 19: 100%|██████████| 469/469 [00:03<00:00, 120.59it/s, v_num=11, train_loss=0.262, train_acc=0.948, val_loss=0.177, val_acc=0.951] "
     ]
    },
    {
     "name": "stderr",
     "output_type": "stream",
     "text": [
      "Metric val_loss improved by 0.008 >= min_delta = 0.0. New best score: 0.177\n"
     ]
    },
    {
     "name": "stdout",
     "output_type": "stream",
     "text": [
      "Epoch 20: 100%|██████████| 469/469 [00:03<00:00, 120.64it/s, v_num=11, train_loss=0.314, train_acc=0.917, val_loss=0.165, val_acc=0.954] "
     ]
    },
    {
     "name": "stderr",
     "output_type": "stream",
     "text": [
      "Metric val_loss improved by 0.012 >= min_delta = 0.0. New best score: 0.165\n"
     ]
    },
    {
     "name": "stdout",
     "output_type": "stream",
     "text": [
      "Epoch 21: 100%|██████████| 469/469 [00:03<00:00, 118.91it/s, v_num=11, train_loss=0.245, train_acc=0.927, val_loss=0.156, val_acc=0.956] "
     ]
    },
    {
     "name": "stderr",
     "output_type": "stream",
     "text": [
      "Metric val_loss improved by 0.009 >= min_delta = 0.0. New best score: 0.156\n"
     ]
    },
    {
     "name": "stdout",
     "output_type": "stream",
     "text": [
      "Epoch 22: 100%|██████████| 469/469 [00:03<00:00, 119.47it/s, v_num=11, train_loss=0.199, train_acc=0.938, val_loss=0.155, val_acc=0.957] "
     ]
    },
    {
     "name": "stderr",
     "output_type": "stream",
     "text": [
      "Metric val_loss improved by 0.002 >= min_delta = 0.0. New best score: 0.155\n"
     ]
    },
    {
     "name": "stdout",
     "output_type": "stream",
     "text": [
      "Epoch 23: 100%|██████████| 469/469 [00:03<00:00, 119.10it/s, v_num=11, train_loss=0.203, train_acc=0.969, val_loss=0.142, val_acc=0.959] "
     ]
    },
    {
     "name": "stderr",
     "output_type": "stream",
     "text": [
      "Metric val_loss improved by 0.012 >= min_delta = 0.0. New best score: 0.142\n"
     ]
    },
    {
     "name": "stdout",
     "output_type": "stream",
     "text": [
      "Epoch 24: 100%|██████████| 469/469 [00:03<00:00, 119.08it/s, v_num=11, train_loss=0.295, train_acc=0.969, val_loss=0.137, val_acc=0.961] "
     ]
    },
    {
     "name": "stderr",
     "output_type": "stream",
     "text": [
      "Metric val_loss improved by 0.005 >= min_delta = 0.0. New best score: 0.137\n"
     ]
    },
    {
     "name": "stdout",
     "output_type": "stream",
     "text": [
      "Epoch 25: 100%|██████████| 469/469 [00:03<00:00, 119.77it/s, v_num=11, train_loss=0.121, train_acc=0.979, val_loss=0.131, val_acc=0.961] "
     ]
    },
    {
     "name": "stderr",
     "output_type": "stream",
     "text": [
      "Metric val_loss improved by 0.006 >= min_delta = 0.0. New best score: 0.131\n"
     ]
    },
    {
     "name": "stdout",
     "output_type": "stream",
     "text": [
      "Epoch 26: 100%|██████████| 469/469 [00:03<00:00, 118.69it/s, v_num=11, train_loss=0.158, train_acc=0.958, val_loss=0.126, val_acc=0.962] "
     ]
    },
    {
     "name": "stderr",
     "output_type": "stream",
     "text": [
      "Metric val_loss improved by 0.005 >= min_delta = 0.0. New best score: 0.126\n"
     ]
    },
    {
     "name": "stdout",
     "output_type": "stream",
     "text": [
      "Epoch 27: 100%|██████████| 469/469 [00:03<00:00, 118.60it/s, v_num=11, train_loss=0.199, train_acc=0.906, val_loss=0.119, val_acc=0.965] "
     ]
    },
    {
     "name": "stderr",
     "output_type": "stream",
     "text": [
      "Metric val_loss improved by 0.007 >= min_delta = 0.0. New best score: 0.119\n"
     ]
    },
    {
     "name": "stdout",
     "output_type": "stream",
     "text": [
      "Epoch 28: 100%|██████████| 469/469 [00:03<00:00, 119.44it/s, v_num=11, train_loss=0.117, train_acc=0.958, val_loss=0.118, val_acc=0.966] "
     ]
    },
    {
     "name": "stderr",
     "output_type": "stream",
     "text": [
      "Metric val_loss improved by 0.001 >= min_delta = 0.0. New best score: 0.118\n"
     ]
    },
    {
     "name": "stdout",
     "output_type": "stream",
     "text": [
      "Epoch 29: 100%|██████████| 469/469 [00:03<00:00, 119.03it/s, v_num=11, train_loss=0.221, train_acc=0.958, val_loss=0.116, val_acc=0.967] "
     ]
    },
    {
     "name": "stderr",
     "output_type": "stream",
     "text": [
      "Metric val_loss improved by 0.002 >= min_delta = 0.0. New best score: 0.116\n"
     ]
    },
    {
     "name": "stdout",
     "output_type": "stream",
     "text": [
      "Epoch 30: 100%|██████████| 469/469 [00:03<00:00, 119.10it/s, v_num=11, train_loss=0.223, train_acc=0.948, val_loss=0.112, val_acc=0.968] "
     ]
    },
    {
     "name": "stderr",
     "output_type": "stream",
     "text": [
      "Metric val_loss improved by 0.004 >= min_delta = 0.0. New best score: 0.112\n"
     ]
    },
    {
     "name": "stdout",
     "output_type": "stream",
     "text": [
      "Epoch 31: 100%|██████████| 469/469 [00:03<00:00, 119.14it/s, v_num=11, train_loss=0.113, train_acc=0.948, val_loss=0.111, val_acc=0.967] "
     ]
    },
    {
     "name": "stderr",
     "output_type": "stream",
     "text": [
      "Metric val_loss improved by 0.001 >= min_delta = 0.0. New best score: 0.111\n"
     ]
    },
    {
     "name": "stdout",
     "output_type": "stream",
     "text": [
      "Epoch 32: 100%|██████████| 469/469 [00:03<00:00, 118.49it/s, v_num=11, train_loss=0.065, train_acc=0.979, val_loss=0.107, val_acc=0.969] "
     ]
    },
    {
     "name": "stderr",
     "output_type": "stream",
     "text": [
      "Metric val_loss improved by 0.003 >= min_delta = 0.0. New best score: 0.107\n"
     ]
    },
    {
     "name": "stdout",
     "output_type": "stream",
     "text": [
      "Epoch 33: 100%|██████████| 469/469 [00:03<00:00, 119.38it/s, v_num=11, train_loss=0.112, train_acc=0.969, val_loss=0.107, val_acc=0.969] "
     ]
    },
    {
     "name": "stderr",
     "output_type": "stream",
     "text": [
      "Metric val_loss improved by 0.000 >= min_delta = 0.0. New best score: 0.107\n"
     ]
    },
    {
     "name": "stdout",
     "output_type": "stream",
     "text": [
      "Epoch 34: 100%|██████████| 469/469 [00:03<00:00, 119.97it/s, v_num=11, train_loss=0.175, train_acc=0.948, val_loss=0.102, val_acc=0.970] "
     ]
    },
    {
     "name": "stderr",
     "output_type": "stream",
     "text": [
      "Metric val_loss improved by 0.006 >= min_delta = 0.0. New best score: 0.102\n"
     ]
    },
    {
     "name": "stdout",
     "output_type": "stream",
     "text": [
      "Epoch 36: 100%|██████████| 469/469 [00:03<00:00, 119.81it/s, v_num=11, train_loss=0.225, train_acc=0.906, val_loss=0.101, val_acc=0.970] "
     ]
    },
    {
     "name": "stderr",
     "output_type": "stream",
     "text": [
      "Metric val_loss improved by 0.001 >= min_delta = 0.0. New best score: 0.101\n"
     ]
    },
    {
     "name": "stdout",
     "output_type": "stream",
     "text": [
      "Epoch 37: 100%|██████████| 469/469 [00:03<00:00, 119.46it/s, v_num=11, train_loss=0.108, train_acc=0.969, val_loss=0.0987, val_acc=0.971]"
     ]
    },
    {
     "name": "stderr",
     "output_type": "stream",
     "text": [
      "Metric val_loss improved by 0.002 >= min_delta = 0.0. New best score: 0.099\n"
     ]
    },
    {
     "name": "stdout",
     "output_type": "stream",
     "text": [
      "Epoch 40: 100%|██████████| 469/469 [00:03<00:00, 119.94it/s, v_num=11, train_loss=0.275, train_acc=0.917, val_loss=0.0968, val_acc=0.970] "
     ]
    },
    {
     "name": "stderr",
     "output_type": "stream",
     "text": [
      "Metric val_loss improved by 0.002 >= min_delta = 0.0. New best score: 0.097\n"
     ]
    },
    {
     "name": "stdout",
     "output_type": "stream",
     "text": [
      "Epoch 41: 100%|██████████| 469/469 [00:03<00:00, 119.49it/s, v_num=11, train_loss=0.234, train_acc=0.958, val_loss=0.0963, val_acc=0.971] "
     ]
    },
    {
     "name": "stderr",
     "output_type": "stream",
     "text": [
      "Metric val_loss improved by 0.000 >= min_delta = 0.0. New best score: 0.096\n"
     ]
    },
    {
     "name": "stdout",
     "output_type": "stream",
     "text": [
      "Epoch 43: 100%|██████████| 469/469 [00:03<00:00, 119.65it/s, v_num=11, train_loss=0.169, train_acc=0.948, val_loss=0.0952, val_acc=0.971] "
     ]
    },
    {
     "name": "stderr",
     "output_type": "stream",
     "text": [
      "Metric val_loss improved by 0.001 >= min_delta = 0.0. New best score: 0.095\n"
     ]
    },
    {
     "name": "stdout",
     "output_type": "stream",
     "text": [
      "Epoch 44: 100%|██████████| 469/469 [00:03<00:00, 119.12it/s, v_num=11, train_loss=0.196, train_acc=0.948, val_loss=0.092, val_acc=0.973]  "
     ]
    },
    {
     "name": "stderr",
     "output_type": "stream",
     "text": [
      "Metric val_loss improved by 0.003 >= min_delta = 0.0. New best score: 0.092\n"
     ]
    },
    {
     "name": "stdout",
     "output_type": "stream",
     "text": [
      "Epoch 46: 100%|██████████| 469/469 [00:03<00:00, 119.70it/s, v_num=11, train_loss=0.162, train_acc=0.969, val_loss=0.0906, val_acc=0.973]"
     ]
    },
    {
     "name": "stderr",
     "output_type": "stream",
     "text": [
      "Metric val_loss improved by 0.001 >= min_delta = 0.0. New best score: 0.091\n"
     ]
    },
    {
     "name": "stdout",
     "output_type": "stream",
     "text": [
      "Epoch 48: 100%|██████████| 469/469 [00:03<00:00, 119.27it/s, v_num=11, train_loss=0.0558, train_acc=0.979, val_loss=0.090, val_acc=0.974]  "
     ]
    },
    {
     "name": "stderr",
     "output_type": "stream",
     "text": [
      "Metric val_loss improved by 0.001 >= min_delta = 0.0. New best score: 0.090\n"
     ]
    },
    {
     "name": "stdout",
     "output_type": "stream",
     "text": [
      "Epoch 51: 100%|██████████| 469/469 [00:03<00:00, 117.40it/s, v_num=11, train_loss=0.0281, train_acc=1.000, val_loss=0.0878, val_acc=0.973]"
     ]
    },
    {
     "name": "stderr",
     "output_type": "stream",
     "text": [
      "Metric val_loss improved by 0.002 >= min_delta = 0.0. New best score: 0.088\n"
     ]
    },
    {
     "name": "stdout",
     "output_type": "stream",
     "text": [
      "Epoch 61: 100%|██████████| 469/469 [00:03<00:00, 118.15it/s, v_num=11, train_loss=0.197, train_acc=0.969, val_loss=0.0886, val_acc=0.974] "
     ]
    },
    {
     "name": "stderr",
     "output_type": "stream",
     "text": [
      "Monitored metric val_loss did not improve in the last 10 records. Best score: 0.088. Signaling Trainer to stop.\n"
     ]
    },
    {
     "name": "stdout",
     "output_type": "stream",
     "text": [
      "Epoch 61: 100%|██████████| 469/469 [00:03<00:00, 117.98it/s, v_num=11, train_loss=0.197, train_acc=0.969, val_loss=0.0886, val_acc=0.974]\n"
     ]
    }
   ],
   "source": [
    "import torch\n",
    "import torch.nn as nn\n",
    "import torch.nn.functional as F\n",
    "import pytorch_lightning as pl\n",
    "from torch.utils.data import DataLoader, TensorDataset\n",
    "from keras.datasets import mnist\n",
    "from pytorch_lightning.callbacks import EarlyStopping\n",
    "\n",
    "# Prepare data\n",
    "(x_train, y_train), (x_test, y_test) = mnist.load_data()\n",
    "x_train = torch.tensor(x_train, dtype=torch.float32).unsqueeze(1) / 255.0\n",
    "y_train = torch.tensor(y_train, dtype=torch.long)\n",
    "x_test = torch.tensor(x_test, dtype=torch.float32).unsqueeze(1) / 255.0\n",
    "y_test = torch.tensor(y_test, dtype=torch.long)\n",
    "\n",
    "train_ds = TensorDataset(x_train, y_train)\n",
    "test_ds = TensorDataset(x_test, y_test)\n",
    "\n",
    "class SimpleCNN(pl.LightningModule):\n",
    "    def __init__(self):\n",
    "        super().__init__()\n",
    "        self.conv = nn.Conv2d(1, 16, kernel_size=3)\n",
    "        self.dropout = nn.Dropout(0.5)\n",
    "        self.fc = nn.Linear(16 * 26 * 26, 10)\n",
    "        self.save_hyperparameters()\n",
    "\n",
    "        # Optional: Match NumPy initialization\n",
    "        nn.init.uniform_(self.conv.weight, -0.01, 0.01)\n",
    "        nn.init.uniform_(self.fc.weight, -0.1, 0.1)\n",
    "\n",
    "    def forward(self, x):\n",
    "        x = torch.tanh(self.conv(x))\n",
    "        x = self.dropout(x)\n",
    "        x = x.view(x.size(0), -1)\n",
    "        x = self.fc(x)\n",
    "        return F.log_softmax(x, dim=1)\n",
    "\n",
    "    def training_step(self, batch, batch_idx):\n",
    "        x, y = batch\n",
    "        logits = self(x)\n",
    "        loss = F.nll_loss(logits, y)\n",
    "        acc = (logits.argmax(dim=1) == y).float().mean()\n",
    "        self.log('train_loss', loss, prog_bar=True)\n",
    "        self.log('train_acc', acc, prog_bar=True)\n",
    "        return loss\n",
    "\n",
    "    def validation_step(self, batch, batch_idx):\n",
    "        x, y = batch\n",
    "        logits = self(x)\n",
    "        loss = F.nll_loss(logits, y)\n",
    "        acc = (logits.argmax(dim=1) == y).float().mean()\n",
    "        self.log('val_loss', loss, prog_bar=True)\n",
    "        self.log('val_acc', acc, prog_bar=True)\n",
    "\n",
    "    def configure_optimizers(self):\n",
    "        # Lower learning rate for stability\n",
    "        return torch.optim.SGD(self.parameters(), lr=0.1)\n",
    "\n",
    "batch_size = 128\n",
    "num_workers = 7  # or use os.cpu_count() for all available cores\n",
    "\n",
    "train_loader = DataLoader(train_ds, batch_size=batch_size, shuffle=True, num_workers=num_workers, persistent_workers=True)\n",
    "val_loader = DataLoader(test_ds, batch_size=batch_size, num_workers=num_workers, persistent_workers=True)\n",
    "\n",
    "early_stop_callback = EarlyStopping(\n",
    "    monitor=\"val_loss\",\n",
    "    patience=10,\n",
    "    mode=\"min\",\n",
    "    verbose=True\n",
    ")\n",
    "\n",
    "model = SimpleCNN()\n",
    "if torch.cuda.is_available():\n",
    "    trainer = pl.Trainer(max_epochs=300, accelerator=\"auto\", devices=\"auto\", callbacks=[early_stop_callback])\n",
    "else:\n",
    "    trainer = pl.Trainer(max_epochs=300, accelerator=\"auto\", callbacks=[early_stop_callback])\n",
    "trainer.fit(model, train_loader, val_loader)"
   ]
  },
  {
   "cell_type": "code",
   "execution_count": 4,
   "id": "27c76f05",
   "metadata": {},
   "outputs": [
    {
     "name": "stdout",
     "output_type": "stream",
     "text": [
      "\n",
      "Final Train-Acc: 0.9813 Test-Acc: 0.9737\n"
     ]
    }
   ],
   "source": [
    "\n",
    "# After training, evaluate accuracy on train and test sets\n",
    "def evaluate_accuracy(model, loader):\n",
    "    model.eval()\n",
    "    correct = 0\n",
    "    total = 0\n",
    "    with torch.no_grad():\n",
    "        for x, y in loader:\n",
    "            logits = model(x)\n",
    "            preds = logits.argmax(dim=1)\n",
    "            correct += (preds == y).sum().item()\n",
    "            total += y.size(0)\n",
    "    return correct / total\n",
    "\n",
    "train_acc = evaluate_accuracy(model, train_loader)\n",
    "test_acc = evaluate_accuracy(model, val_loader)\n",
    "print(f\"\\nFinal Train-Acc: {train_acc:.4f} Test-Acc: {test_acc:.4f}\")\n",
    "\n"
   ]
  },
  {
   "cell_type": "code",
   "execution_count": 5,
   "id": "d275b5fa",
   "metadata": {},
   "outputs": [
    {
     "data": {
      "image/png": "[encoded data removed]",
      "text/plain": [
       "<Figure size 1000x800 with 20 Axes>"
      ]
     },
     "metadata": {},
     "output_type": "display_data"
    }
   ],
   "source": [
    "# draw 20 random images from the test set and their predicted labels\n",
    "import matplotlib.pyplot as plt\n",
    "def draw_random_images(model, dataset, num_images=20):\n",
    "    indices = torch.randperm(len(dataset))[:num_images]\n",
    "    images, labels = zip(*[dataset[i] for i in indices])\n",
    "    images = torch.stack(images)\n",
    "    \n",
    "    model.eval()\n",
    "    with torch.no_grad():\n",
    "        logits = model(images)\n",
    "        preds = logits.argmax(dim=1)\n",
    "\n",
    "    fig, axes = plt.subplots(4, 5, figsize=(10, 8))\n",
    "    for ax, img, pred, label in zip(axes.flatten(), images, preds, labels):\n",
    "        ax.imshow(img.squeeze(), cmap='gray')\n",
    "        ax.set_title(f\"Pred: {pred.item()}, True: {label.item()}\")\n",
    "        ax.axis('off')\n",
    "    plt.tight_layout()\n",
    "    plt.show()\n",
    "draw_random_images(model, test_ds, num_images=20)"
   ]
  },
  {
   "cell_type": "code",
   "execution_count": 6,
   "id": "f47a2a30",
   "metadata": {},
   "outputs": [
    {
     "data": {
      "image/png": "[encoded data removed]",
      "text/plain": [
       "<Figure size 1000x800 with 20 Axes>"
      ]
     },
     "metadata": {},
     "output_type": "display_data"
    }
   ],
   "source": [
    "draw_random_images(model, test_ds, num_images=20)"
   ]
  },
  {
   "cell_type": "code",
   "execution_count": null,
   "id": "72a28c59",
   "metadata": {},
   "outputs": [],
   "source": []
  }
 ],
 "metadata": {
  "kernelspec": {
   "display_name": "venv",
   "language": "python",
   "name": "python3"
  },
  "language_info": {
   "codemirror_mode": {
    "name": "ipython",
    "version": 3
   },
   "file_extension": ".py",
   "mimetype": "text/x-python",
   "name": "python",
   "nbconvert_exporter": "python",
   "pygments_lexer": "ipython3",
   "version": "3.9.6"
  }
 },
 "nbformat": 4,
 "nbformat_minor": 5
}
