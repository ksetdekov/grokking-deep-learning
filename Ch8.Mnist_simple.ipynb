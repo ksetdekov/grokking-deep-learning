{
 "cells": [
  {
   "cell_type": "code",
   "execution_count": 1,
   "metadata": {},
   "outputs": [
    {
     "name": "stdout",
     "output_type": "stream",
     "text": [
      "WARNING:tensorflow:From e:\\python\\grokking-deep-learning\\.venv\\lib\\site-packages\\keras\\src\\losses.py:2976: The name tf.losses.sparse_softmax_cross_entropy is deprecated. Please use tf.compat.v1.losses.sparse_softmax_cross_entropy instead.\n",
      "\n"
     ]
    }
   ],
   "source": [
    "import sys\n",
    "import numpy as np\n",
    "\n",
    "from keras.datasets import mnist"
   ]
  },
  {
   "cell_type": "code",
   "execution_count": 2,
   "metadata": {},
   "outputs": [
    {
     "name": "stdout",
     "output_type": "stream",
     "text": [
      " I:0 Error:0.722 Correct:0.537 Test-Err:0.601 Test-Acc:0.6488\n",
      " I:10 Error:0.312 Correct:0.901 Test-Err:0.420 Test-Acc:0.8114\n",
      " I:20 Error:0.260 Correct:0.937 Test-Err:0.414 Test-Acc:0.8111\n",
      " I:30 Error:0.232 Correct:0.946 Test-Err:0.417 Test-Acc:0.8066\n",
      " I:40 Error:0.215 Correct:0.956 Test-Err:0.426 Test-Acc:0.8019\n",
      " I:50 Error:0.204 Correct:0.966 Test-Err:0.437 Test-Acc:0.7982\n",
      " I:60 Error:0.194 Correct:0.967 Test-Err:0.448 Test-Acc:0.7921\n",
      " I:70 Error:0.186 Correct:0.975 Test-Err:0.458 Test-Acc:0.7864\n",
      " I:80 Error:0.179 Correct:0.979 Test-Err:0.466 Test-Acc:0.7817\n",
      " I:90 Error:0.172 Correct:0.981 Test-Err:0.474 Test-Acc:0.7758\n",
      " I:100 Error:0.166 Correct:0.984 Test-Err:0.482 Test-Acc:0.7706\n",
      " I:110 Error:0.161 Correct:0.984 Test-Err:0.489 Test-Acc:0.7686\n",
      " I:120 Error:0.157 Correct:0.986 Test-Err:0.496 Test-Acc:0.766\n",
      " I:130 Error:0.153 Correct:0.999 Test-Err:0.502 Test-Acc:0.7622\n",
      " I:140 Error:0.149 Correct:0.991 Test-Err:0.508 Test-Acc:0.758\n",
      " I:150 Error:0.145 Correct:0.991 Test-Err:0.513 Test-Acc:0.7558\n",
      " I:160 Error:0.141 Correct:0.992 Test-Err:0.518 Test-Acc:0.7553\n",
      " I:170 Error:0.138 Correct:0.992 Test-Err:0.524 Test-Acc:0.751\n",
      " I:180 Error:0.135 Correct:0.995 Test-Err:0.528 Test-Acc:0.7505\n",
      " I:190 Error:0.132 Correct:0.995 Test-Err:0.533 Test-Acc:0.7482\n",
      " I:200 Error:0.130 Correct:0.998 Test-Err:0.538 Test-Acc:0.7464\n",
      " I:210 Error:0.127 Correct:0.998 Test-Err:0.544 Test-Acc:0.7446\n",
      " I:220 Error:0.125 Correct:0.998 Test-Err:0.552 Test-Acc:0.7416\n",
      " I:230 Error:0.123 Correct:0.998 Test-Err:0.560 Test-Acc:0.7372\n",
      " I:240 Error:0.121 Correct:0.998 Test-Err:0.569 Test-Acc:0.7344\n",
      " I:250 Error:0.120 Correct:0.999 Test-Err:0.577 Test-Acc:0.7316\n",
      " I:260 Error:0.118 Correct:0.999 Test-Err:0.585 Test-Acc:0.729\n",
      " I:270 Error:0.117 Correct:0.999 Test-Err:0.593 Test-Acc:0.7259\n",
      " I:280 Error:0.115 Correct:0.999 Test-Err:0.600 Test-Acc:0.723\n",
      " I:290 Error:0.114 Correct:0.999 Test-Err:0.607 Test-Acc:0.7196\n",
      " I:300 Error:0.113 Correct:0.999 Test-Err:0.614 Test-Acc:0.7183\n",
      " I:310 Error:0.112 Correct:0.999 Test-Err:0.622 Test-Acc:0.7165\n",
      " I:320 Error:0.111 Correct:0.999 Test-Err:0.629 Test-Acc:0.7133\n",
      " I:330 Error:0.110 Correct:0.999 Test-Err:0.637 Test-Acc:0.7125\n",
      " I:340 Error:0.109 Correct:1.099 Test-Err:0.645 Test-Acc:0.71\n",
      " I:349 Error:0.108 Correct:1.0 Test-Err:0.653 Test-Acc:0.7073\n"
     ]
    }
   ],
   "source": [
    "# Load the MNIST dataset\n",
    "(x_train, y_train), (x_test, y_test) = mnist.load_data()\n",
    "\n",
    "# Preprocess the training data\n",
    "train_images = x_train[0:1000].reshape(1000, 28*28) / 255\n",
    "train_labels = np.zeros((len(y_train[0:1000]), 10))\n",
    "for i, l in enumerate(y_train[0:1000]):\n",
    "    train_labels[i][l] = 1\n",
    "\n",
    "# Assign labels to one_hot_labels\n",
    "labels = train_labels\n",
    "\n",
    "# Preprocess the test data\n",
    "test_images = x_test.reshape(len(x_test), 28*28) / 255\n",
    "test_labels = np.zeros((len(y_test), 10))\n",
    "for i, l in enumerate(y_test):\n",
    "    test_labels[i][l] = 1\n",
    "\n",
    "np.random.seed(1)\n",
    "relu = lambda x: (x >= 0) * x\n",
    "relu2deriv = lambda x: x >= 0\n",
    "\n",
    "alpha, iterations, hidden_size, pixels_per_image, num_labels = (0.005, 350, 40, 784, 10)\n",
    "weights_0_1 = 0.2*np.random.random((pixels_per_image, hidden_size)) - 0.1\n",
    "weights_1_2 = 0.2*np.random.random((hidden_size, num_labels)) - 0.1\n",
    "\n",
    "train_acc_list = {}\n",
    "test_acc_list = {}\n",
    "\n",
    "for j in range(iterations):\n",
    "    error, correct_cnt = (0.0, 0)\n",
    "    for i in range(len(train_images)):\n",
    "        layer_0 = train_images[i:i+1]\n",
    "        layer_1 = relu(np.dot(layer_0, weights_0_1))\n",
    "        layer_2 = np.dot(layer_1, weights_1_2)\n",
    "\n",
    "        error += np.sum((labels[i:i+1] - layer_2) ** 2)\n",
    "        correct_cnt += int(np.argmax(layer_2) == np.argmax(labels[i:i+1]))\n",
    "\n",
    "        layer_2_delta = (labels[i:i+1] - layer_2)\n",
    "        layer_1_delta = layer_2_delta.dot(weights_1_2.T)*relu2deriv(layer_1)\n",
    "\n",
    "        weights_1_2 += alpha * layer_1.T.dot(layer_2_delta)\n",
    "        weights_0_1 += alpha * layer_0.T.dot(layer_1_delta)\n",
    "\n",
    "    sys.stdout.write(\"\\r\" + \\\n",
    "                     \" I:\" + str(j) + \\\n",
    "                     \" Error:\" + str(error/float(len(train_images)))[0:5] + \\\n",
    "                     \" Correct:\" + str(correct_cnt/float(len(train_images))))\n",
    "    if (j % 10 == 0 or j == iterations-1):\n",
    "        train_acc_list[j] = correct_cnt/float(len(train_images))\n",
    "        error, correct_cnt = (0.0, 0)\n",
    "        for i in range(len(test_images)):\n",
    "            layer_0 = test_images[i:i+1]\n",
    "            layer_1 = relu(np.dot(layer_0, weights_0_1))\n",
    "            layer_2 = np.dot(layer_1, weights_1_2)\n",
    "\n",
    "            error += np.sum((test_labels[i:i+1] - layer_2) ** 2)\n",
    "            correct_cnt += int(np.argmax(layer_2) == np.argmax(test_labels[i:i+1]))\n",
    "        sys.stdout.write(\" Test-Err:\" + str(error/float(len(test_images)))[0:5] + \\\n",
    "                         \" Test-Acc:\" + str(correct_cnt/float(len(test_images))) + \"\\n\")\n",
    "        test_acc_list[j] = correct_cnt/float(len(test_images))\n",
    "\n",
    "\n",
    "        "
   ]
  },
  {
   "cell_type": "code",
   "execution_count": 3,
   "metadata": {},
   "outputs": [
    {
     "data": {
      "text/plain": [
       "7.073"
      ]
     },
     "execution_count": 3,
     "metadata": {},
     "output_type": "execute_result"
    }
   ],
   "source": [
    "correct_cnt/float(len(train_images))"
   ]
  },
  {
   "cell_type": "code",
   "execution_count": 4,
   "metadata": {},
   "outputs": [
    {
     "data": {
      "application/vnd.plotly.v1+json": {
       "config": {
        "plotlyServerURL": "https://plot.ly"
       },
       "data": [
        {
         "mode": "lines+markers",
         "name": "Train Accuracy",
         "type": "scatter",
         "x": [
          0,
          10,
          20,
          30,
          40,
          50,
          60,
          70,
          80,
          90,
          100,
          110,
          120,
          130,
          140,
          150,
          160,
          170,
          180,
          190,
          200,
          210,
          220,
          230,
          240,
          250,
          260,
          270,
          280,
          290,
          300,
          310,
          320,
          330,
          340,
          349
         ],
         "y": [
          0.537,
          0.901,
          0.93,
          0.946,
          0.956,
          0.966,
          0.967,
          0.975,
          0.979,
          0.981,
          0.984,
          0.984,
          0.986,
          0.99,
          0.991,
          0.991,
          0.992,
          0.992,
          0.995,
          0.995,
          0.998,
          0.998,
          0.998,
          0.998,
          0.998,
          0.999,
          0.999,
          0.999,
          0.999,
          0.999,
          0.999,
          0.999,
          0.999,
          0.999,
          1,
          1
         ]
        },
        {
         "mode": "lines+markers",
         "name": "Test Accuracy",
         "type": "scatter",
         "x": [
          0,
          10,
          20,
          30,
          40,
          50,
          60,
          70,
          80,
          90,
          100,
          110,
          120,
          130,
          140,
          150,
          160,
          170,
          180,
          190,
          200,
          210,
          220,
          230,
          240,
          250,
          260,
          270,
          280,
          290,
          300,
          310,
          320,
          330,
          340,
          349
         ],
         "y": [
          0.6488,
          0.8114,
          0.8111,
          0.8066,
          0.8019,
          0.7982,
          0.7921,
          0.7864,
          0.7817,
          0.7758,
          0.7706,
          0.7686,
          0.766,
          0.7622,
          0.758,
          0.7558,
          0.7553,
          0.751,
          0.7505,
          0.7482,
          0.7464,
          0.7446,
          0.7416,
          0.7372,
          0.7344,
          0.7316,
          0.729,
          0.7259,
          0.723,
          0.7196,
          0.7183,
          0.7165,
          0.7133,
          0.7125,
          0.71,
          0.7073
         ]
        }
       ],
       "layout": {
        "template": {
         "data": {
          "bar": [
           {
            "error_x": {
             "color": "#2a3f5f"
            },
            "error_y": {
             "color": "#2a3f5f"
            },
            "marker": {
             "line": {
              "color": "#E5ECF6",
              "width": 0.5
             },
             "pattern": {
              "fillmode": "overlay",
              "size": 10,
              "solidity": 0.2
             }
            },
            "type": "bar"
           }
          ],
          "barpolar": [
           {
            "marker": {
             "line": {
              "color": "#E5ECF6",
              "width": 0.5
             },
             "pattern": {
              "fillmode": "overlay",
              "size": 10,
              "solidity": 0.2
             }
            },
            "type": "barpolar"
           }
          ],
          "carpet": [
           {
            "aaxis": {
             "endlinecolor": "#2a3f5f",
             "gridcolor": "white",
             "linecolor": "white",
             "minorgridcolor": "white",
             "startlinecolor": "#2a3f5f"
            },
            "baxis": {
             "endlinecolor": "#2a3f5f",
             "gridcolor": "white",
             "linecolor": "white",
             "minorgridcolor": "white",
             "startlinecolor": "#2a3f5f"
            },
            "type": "carpet"
           }
          ],
          "choropleth": [
           {
            "colorbar": {
             "outlinewidth": 0,
             "ticks": ""
            },
            "type": "choropleth"
           }
          ],
          "contour": [
           {
            "colorbar": {
             "outlinewidth": 0,
             "ticks": ""
            },
            "colorscale": [
             [
              0,
              "#0d0887"
             ],
             [
              0.1111111111111111,
              "#46039f"
             ],
             [
              0.2222222222222222,
              "#7201a8"
             ],
             [
              0.3333333333333333,
              "#9c179e"
             ],
             [
              0.4444444444444444,
              "#bd3786"
             ],
             [
              0.5555555555555556,
              "#d8576b"
             ],
             [
              0.6666666666666666,
              "#ed7953"
             ],
             [
              0.7777777777777778,
              "#fb9f3a"
             ],
             [
              0.8888888888888888,
              "#fdca26"
             ],
             [
              1,
              "#f0f921"
             ]
            ],
            "type": "contour"
           }
          ],
          "contourcarpet": [
           {
            "colorbar": {
             "outlinewidth": 0,
             "ticks": ""
            },
            "type": "contourcarpet"
           }
          ],
          "heatmap": [
           {
            "colorbar": {
             "outlinewidth": 0,
             "ticks": ""
            },
            "colorscale": [
             [
              0,
              "#0d0887"
             ],
             [
              0.1111111111111111,
              "#46039f"
             ],
             [
              0.2222222222222222,
              "#7201a8"
             ],
             [
              0.3333333333333333,
              "#9c179e"
             ],
             [
              0.4444444444444444,
              "#bd3786"
             ],
             [
              0.5555555555555556,
              "#d8576b"
             ],
             [
              0.6666666666666666,
              "#ed7953"
             ],
             [
              0.7777777777777778,
              "#fb9f3a"
             ],
             [
              0.8888888888888888,
              "#fdca26"
             ],
             [
              1,
              "#f0f921"
             ]
            ],
            "type": "heatmap"
           }
          ],
          "heatmapgl": [
           {
            "colorbar": {
             "outlinewidth": 0,
             "ticks": ""
            },
            "colorscale": [
             [
              0,
              "#0d0887"
             ],
             [
              0.1111111111111111,
              "#46039f"
             ],
             [
              0.2222222222222222,
              "#7201a8"
             ],
             [
              0.3333333333333333,
              "#9c179e"
             ],
             [
              0.4444444444444444,
              "#bd3786"
             ],
             [
              0.5555555555555556,
              "#d8576b"
             ],
             [
              0.6666666666666666,
              "#ed7953"
             ],
             [
              0.7777777777777778,
              "#fb9f3a"
             ],
             [
              0.8888888888888888,
              "#fdca26"
             ],
             [
              1,
              "#f0f921"
             ]
            ],
            "type": "heatmapgl"
           }
          ],
          "histogram": [
           {
            "marker": {
             "pattern": {
              "fillmode": "overlay",
              "size": 10,
              "solidity": 0.2
             }
            },
            "type": "histogram"
           }
          ],
          "histogram2d": [
           {
            "colorbar": {
             "outlinewidth": 0,
             "ticks": ""
            },
            "colorscale": [
             [
              0,
              "#0d0887"
             ],
             [
              0.1111111111111111,
              "#46039f"
             ],
             [
              0.2222222222222222,
              "#7201a8"
             ],
             [
              0.3333333333333333,
              "#9c179e"
             ],
             [
              0.4444444444444444,
              "#bd3786"
             ],
             [
              0.5555555555555556,
              "#d8576b"
             ],
             [
              0.6666666666666666,
              "#ed7953"
             ],
             [
              0.7777777777777778,
              "#fb9f3a"
             ],
             [
              0.8888888888888888,
              "#fdca26"
             ],
             [
              1,
              "#f0f921"
             ]
            ],
            "type": "histogram2d"
           }
          ],
          "histogram2dcontour": [
           {
            "colorbar": {
             "outlinewidth": 0,
             "ticks": ""
            },
            "colorscale": [
             [
              0,
              "#0d0887"
             ],
             [
              0.1111111111111111,
              "#46039f"
             ],
             [
              0.2222222222222222,
              "#7201a8"
             ],
             [
              0.3333333333333333,
              "#9c179e"
             ],
             [
              0.4444444444444444,
              "#bd3786"
             ],
             [
              0.5555555555555556,
              "#d8576b"
             ],
             [
              0.6666666666666666,
              "#ed7953"
             ],
             [
              0.7777777777777778,
              "#fb9f3a"
             ],
             [
              0.8888888888888888,
              "#fdca26"
             ],
             [
              1,
              "#f0f921"
             ]
            ],
            "type": "histogram2dcontour"
           }
          ],
          "mesh3d": [
           {
            "colorbar": {
             "outlinewidth": 0,
             "ticks": ""
            },
            "type": "mesh3d"
           }
          ],
          "parcoords": [
           {
            "line": {
             "colorbar": {
              "outlinewidth": 0,
              "ticks": ""
             }
            },
            "type": "parcoords"
           }
          ],
          "pie": [
           {
            "automargin": true,
            "type": "pie"
           }
          ],
          "scatter": [
           {
            "fillpattern": {
             "fillmode": "overlay",
             "size": 10,
             "solidity": 0.2
            },
            "type": "scatter"
           }
          ],
          "scatter3d": [
           {
            "line": {
             "colorbar": {
              "outlinewidth": 0,
              "ticks": ""
             }
            },
            "marker": {
             "colorbar": {
              "outlinewidth": 0,
              "ticks": ""
             }
            },
            "type": "scatter3d"
           }
          ],
          "scattercarpet": [
           {
            "marker": {
             "colorbar": {
              "outlinewidth": 0,
              "ticks": ""
             }
            },
            "type": "scattercarpet"
           }
          ],
          "scattergeo": [
           {
            "marker": {
             "colorbar": {
              "outlinewidth": 0,
              "ticks": ""
             }
            },
            "type": "scattergeo"
           }
          ],
          "scattergl": [
           {
            "marker": {
             "colorbar": {
              "outlinewidth": 0,
              "ticks": ""
             }
            },
            "type": "scattergl"
           }
          ],
          "scattermapbox": [
           {
            "marker": {
             "colorbar": {
              "outlinewidth": 0,
              "ticks": ""
             }
            },
            "type": "scattermapbox"
           }
          ],
          "scatterpolar": [
           {
            "marker": {
             "colorbar": {
              "outlinewidth": 0,
              "ticks": ""
             }
            },
            "type": "scatterpolar"
           }
          ],
          "scatterpolargl": [
           {
            "marker": {
             "colorbar": {
              "outlinewidth": 0,
              "ticks": ""
             }
            },
            "type": "scatterpolargl"
           }
          ],
          "scatterternary": [
           {
            "marker": {
             "colorbar": {
              "outlinewidth": 0,
              "ticks": ""
             }
            },
            "type": "scatterternary"
           }
          ],
          "surface": [
           {
            "colorbar": {
             "outlinewidth": 0,
             "ticks": ""
            },
            "colorscale": [
             [
              0,
              "#0d0887"
             ],
             [
              0.1111111111111111,
              "#46039f"
             ],
             [
              0.2222222222222222,
              "#7201a8"
             ],
             [
              0.3333333333333333,
              "#9c179e"
             ],
             [
              0.4444444444444444,
              "#bd3786"
             ],
             [
              0.5555555555555556,
              "#d8576b"
             ],
             [
              0.6666666666666666,
              "#ed7953"
             ],
             [
              0.7777777777777778,
              "#fb9f3a"
             ],
             [
              0.8888888888888888,
              "#fdca26"
             ],
             [
              1,
              "#f0f921"
             ]
            ],
            "type": "surface"
           }
          ],
          "table": [
           {
            "cells": {
             "fill": {
              "color": "#EBF0F8"
             },
             "line": {
              "color": "white"
             }
            },
            "header": {
             "fill": {
              "color": "#C8D4E3"
             },
             "line": {
              "color": "white"
             }
            },
            "type": "table"
           }
          ]
         },
         "layout": {
          "annotationdefaults": {
           "arrowcolor": "#2a3f5f",
           "arrowhead": 0,
           "arrowwidth": 1
          },
          "autotypenumbers": "strict",
          "coloraxis": {
           "colorbar": {
            "outlinewidth": 0,
            "ticks": ""
           }
          },
          "colorscale": {
           "diverging": [
            [
             0,
             "#8e0152"
            ],
            [
             0.1,
             "#c51b7d"
            ],
            [
             0.2,
             "#de77ae"
            ],
            [
             0.3,
             "#f1b6da"
            ],
            [
             0.4,
             "#fde0ef"
            ],
            [
             0.5,
             "#f7f7f7"
            ],
            [
             0.6,
             "#e6f5d0"
            ],
            [
             0.7,
             "#b8e186"
            ],
            [
             0.8,
             "#7fbc41"
            ],
            [
             0.9,
             "#4d9221"
            ],
            [
             1,
             "#276419"
            ]
           ],
           "sequential": [
            [
             0,
             "#0d0887"
            ],
            [
             0.1111111111111111,
             "#46039f"
            ],
            [
             0.2222222222222222,
             "#7201a8"
            ],
            [
             0.3333333333333333,
             "#9c179e"
            ],
            [
             0.4444444444444444,
             "#bd3786"
            ],
            [
             0.5555555555555556,
             "#d8576b"
            ],
            [
             0.6666666666666666,
             "#ed7953"
            ],
            [
             0.7777777777777778,
             "#fb9f3a"
            ],
            [
             0.8888888888888888,
             "#fdca26"
            ],
            [
             1,
             "#f0f921"
            ]
           ],
           "sequentialminus": [
            [
             0,
             "#0d0887"
            ],
            [
             0.1111111111111111,
             "#46039f"
            ],
            [
             0.2222222222222222,
             "#7201a8"
            ],
            [
             0.3333333333333333,
             "#9c179e"
            ],
            [
             0.4444444444444444,
             "#bd3786"
            ],
            [
             0.5555555555555556,
             "#d8576b"
            ],
            [
             0.6666666666666666,
             "#ed7953"
            ],
            [
             0.7777777777777778,
             "#fb9f3a"
            ],
            [
             0.8888888888888888,
             "#fdca26"
            ],
            [
             1,
             "#f0f921"
            ]
           ]
          },
          "colorway": [
           "#636efa",
           "#EF553B",
           "#00cc96",
           "#ab63fa",
           "#FFA15A",
           "#19d3f3",
           "#FF6692",
           "#B6E880",
           "#FF97FF",
           "#FECB52"
          ],
          "font": {
           "color": "#2a3f5f"
          },
          "geo": {
           "bgcolor": "white",
           "lakecolor": "white",
           "landcolor": "#E5ECF6",
           "showlakes": true,
           "showland": true,
           "subunitcolor": "white"
          },
          "hoverlabel": {
           "align": "left"
          },
          "hovermode": "closest",
          "mapbox": {
           "style": "light"
          },
          "paper_bgcolor": "white",
          "plot_bgcolor": "#E5ECF6",
          "polar": {
           "angularaxis": {
            "gridcolor": "white",
            "linecolor": "white",
            "ticks": ""
           },
           "bgcolor": "#E5ECF6",
           "radialaxis": {
            "gridcolor": "white",
            "linecolor": "white",
            "ticks": ""
           }
          },
          "scene": {
           "xaxis": {
            "backgroundcolor": "#E5ECF6",
            "gridcolor": "white",
            "gridwidth": 2,
            "linecolor": "white",
            "showbackground": true,
            "ticks": "",
            "zerolinecolor": "white"
           },
           "yaxis": {
            "backgroundcolor": "#E5ECF6",
            "gridcolor": "white",
            "gridwidth": 2,
            "linecolor": "white",
            "showbackground": true,
            "ticks": "",
            "zerolinecolor": "white"
           },
           "zaxis": {
            "backgroundcolor": "#E5ECF6",
            "gridcolor": "white",
            "gridwidth": 2,
            "linecolor": "white",
            "showbackground": true,
            "ticks": "",
            "zerolinecolor": "white"
           }
          },
          "shapedefaults": {
           "line": {
            "color": "#2a3f5f"
           }
          },
          "ternary": {
           "aaxis": {
            "gridcolor": "white",
            "linecolor": "white",
            "ticks": ""
           },
           "baxis": {
            "gridcolor": "white",
            "linecolor": "white",
            "ticks": ""
           },
           "bgcolor": "#E5ECF6",
           "caxis": {
            "gridcolor": "white",
            "linecolor": "white",
            "ticks": ""
           }
          },
          "title": {
           "x": 0.05
          },
          "xaxis": {
           "automargin": true,
           "gridcolor": "white",
           "linecolor": "white",
           "ticks": "",
           "title": {
            "standoff": 15
           },
           "zerolinecolor": "white",
           "zerolinewidth": 2
          },
          "yaxis": {
           "automargin": true,
           "gridcolor": "white",
           "linecolor": "white",
           "ticks": "",
           "title": {
            "standoff": 15
           },
           "zerolinecolor": "white",
           "zerolinewidth": 2
          }
         }
        },
        "title": {
         "text": "Train and Test Accuracy"
        },
        "xaxis": {
         "title": {
          "text": "Iterations"
         }
        },
        "yaxis": {
         "title": {
          "text": "Accuracy"
         }
        }
       }
      }
     },
     "metadata": {},
     "output_type": "display_data"
    }
   ],
   "source": [
    "# draw the graph in the end of the training and testing accuracy in plotly\n",
    "import plotly.graph_objects as go\n",
    "fig = go.Figure()\n",
    "fig.add_trace(go.Scatter(x=list(train_acc_list.keys()), y=list(train_acc_list.values()), mode='lines+markers', name='Train Accuracy'))\n",
    "fig.add_trace(go.Scatter(x=list(test_acc_list.keys()), y=list(test_acc_list.values()), mode='lines+markers', name='Test Accuracy'))\n",
    "fig.update_layout(title='Train and Test Accuracy', xaxis_title='Iterations', yaxis_title='Accuracy')\n",
    "fig.show()\n"
   ]
  },
  {
   "cell_type": "markdown",
   "metadata": {},
   "source": [
    "# regularization - dropout"
   ]
  },
  {
   "cell_type": "code",
   "execution_count": 5,
   "metadata": {},
   "outputs": [
    {
     "data": {
      "text/plain": [
       "array([[0, 0, 1, 1, 0, 1, 0, 1, 0, 0, 0, 0, 0, 0, 1, 1, 0, 1, 1, 1, 0, 1,\n",
       "        1, 0, 1, 1, 0, 1, 1, 0, 0, 0, 0, 1, 0, 0, 1, 1, 1, 0]])"
      ]
     },
     "execution_count": 5,
     "metadata": {},
     "output_type": "execute_result"
    }
   ],
   "source": [
    "np.random.randint(2, size=layer_1.shape)\n"
   ]
  },
  {
   "cell_type": "code",
   "execution_count": 8,
   "metadata": {},
   "outputs": [
    {
     "data": {
      "text/plain": [
       "array([[ 0.0234819 ,  0.10536939, -0.14983653, -0.14352343,  0.05995137,\n",
       "         0.07663912, -0.14933566,  0.02289369, -0.03448445, -0.06408803,\n",
       "         0.05417756,  0.14481582, -0.05018912, -0.01035672,  0.7293712 ,\n",
       "         0.08782312,  0.0387063 ,  0.00382981,  0.02033885, -0.06837911,\n",
       "         0.00838287, -0.20085782, -0.05446102,  0.03096702, -0.02732371,\n",
       "         0.10253955,  0.05296539, -0.01697864, -0.12511889, -0.00814049,\n",
       "         0.30843454, -0.04535994, -0.18104463, -0.13682708, -0.11248576,\n",
       "        -0.12779853,  0.03245115,  0.06128092,  0.04422866,  0.09307085]])"
      ]
     },
     "execution_count": 8,
     "metadata": {},
     "output_type": "execute_result"
    }
   ],
   "source": [
    "i = 0\n",
    "layer_0 = train_images[i:i+1]\n",
    "dropout_mask = np.random.randint(2, size=layer_1.shape)\n",
    "\n",
    "layer_1*= dropout_mask * 2\n",
    "layer_2 = np.dot(layer_1, weights_1_2)\n",
    "\n",
    "error += np.sum((labels[i:i+1] - layer_2) ** 2)\n",
    "correct_cnt += int(np.argmax(layer_2) == np.argmax(labels[i:i+1]))\n",
    "\n",
    "layer_2_delta = (labels[i:i+1] - layer_2)\n",
    "layer_1_delta = layer_2_delta.dot(weights_1_2.T)*relu2deriv(layer_1)\n",
    "\n",
    "layer_1_delta"
   ]
  },
  {
   "cell_type": "code",
   "execution_count": 9,
   "metadata": {},
   "outputs": [
    {
     "name": "stdout",
     "output_type": "stream",
     "text": [
      " I:0 Error:0.885 Correct:0.289 Test-Err:0.718 Test-Acc:0.5418\n",
      " I:10 Error:0.564 Correct:0.647 Test-Err:0.501 Test-Acc:0.7365\n",
      " I:20 Error:0.530 Correct:0.681 Test-Err:0.478 Test-Acc:0.7621\n",
      " I:30 Error:0.508 Correct:0.713 Test-Err:0.457 Test-Acc:0.7915\n",
      " I:40 Error:0.492 Correct:0.719 Test-Err:0.445 Test-Acc:0.7998\n",
      " I:50 Error:0.462 Correct:0.742 Test-Err:0.430 Test-Acc:0.8145\n",
      " I:60 Error:0.472 Correct:0.746 Test-Err:0.446 Test-Acc:0.7974\n",
      " I:70 Error:0.463 Correct:0.744 Test-Err:0.445 Test-Acc:0.7901\n",
      " I:80 Error:0.461 Correct:0.764 Test-Err:0.426 Test-Acc:0.8105\n",
      " I:90 Error:0.462 Correct:0.749 Test-Err:0.435 Test-Acc:0.7871\n",
      " I:100 Error:0.452 Correct:0.769 Test-Err:0.433 Test-Acc:0.8039\n",
      " I:110 Error:0.439 Correct:0.778 Test-Err:0.435 Test-Acc:0.8099\n",
      " I:120 Error:0.451 Correct:0.778 Test-Err:0.442 Test-Acc:0.7871\n",
      " I:130 Error:0.452 Correct:0.783 Test-Err:0.439 Test-Acc:0.811\n",
      " I:140 Error:0.445 Correct:0.779 Test-Err:0.443 Test-Acc:0.8049\n",
      " I:150 Error:0.457 Correct:0.783 Test-Err:0.446 Test-Acc:0.7918\n",
      " I:160 Error:0.456 Correct:0.774 Test-Err:0.437 Test-Acc:0.81\n",
      " I:170 Error:0.439 Correct:0.801 Test-Err:0.430 Test-Acc:0.7963\n",
      " I:180 Error:0.453 Correct:0.782 Test-Err:0.432 Test-Acc:0.7955\n",
      " I:190 Error:0.433 Correct:0.784 Test-Err:0.436 Test-Acc:0.7997\n",
      " I:200 Error:0.442 Correct:0.796 Test-Err:0.436 Test-Acc:0.803\n",
      " I:210 Error:0.441 Correct:0.794 Test-Err:0.434 Test-Acc:0.8031\n",
      " I:220 Error:0.434 Correct:0.777 Test-Err:0.426 Test-Acc:0.8102\n",
      " I:230 Error:0.431 Correct:0.803 Test-Err:0.429 Test-Acc:0.8058\n",
      " I:240 Error:0.430 Correct:0.788 Test-Err:0.436 Test-Acc:0.8055\n",
      " I:250 Error:0.433 Correct:0.789 Test-Err:0.421 Test-Acc:0.8053\n",
      " I:260 Error:0.422 Correct:0.797 Test-Err:0.422 Test-Acc:0.8102\n",
      " I:270 Error:0.430 Correct:0.803 Test-Err:0.438 Test-Acc:0.8062\n",
      " I:280 Error:0.425 Correct:0.797 Test-Err:0.431 Test-Acc:0.7991\n",
      " I:290 Error:0.428 Correct:0.792 Test-Err:0.433 Test-Acc:0.8028\n",
      " I:300 Error:0.407 Correct:0.804 Test-Err:0.434 Test-Acc:0.7949\n",
      " I:310 Error:0.415 Correct:0.793 Test-Err:0.428 Test-Acc:0.8036\n",
      " I:320 Error:0.415 Correct:0.812 Test-Err:0.436 Test-Acc:0.8008\n",
      " I:330 Error:0.418 Correct:0.817 Test-Err:0.419 Test-Acc:0.8134\n",
      " I:340 Error:0.408 Correct:0.814 Test-Err:0.431 Test-Acc:0.8012\n",
      " I:349 Error:0.418 Correct:0.802 Test-Err:0.421 Test-Acc:0.8078\n"
     ]
    },
    {
     "data": {
      "application/vnd.plotly.v1+json": {
       "config": {
        "plotlyServerURL": "https://plot.ly"
       },
       "data": [
        {
         "mode": "lines+markers",
         "name": "Train Accuracy",
         "type": "scatter",
         "x": [
          0,
          10,
          20,
          30,
          40,
          50,
          60,
          70,
          80,
          90,
          100,
          110,
          120,
          130,
          140,
          150,
          160,
          170,
          180,
          190,
          200,
          210,
          220,
          230,
          240,
          250,
          260,
          270,
          280,
          290,
          300,
          310,
          320,
          330,
          340,
          349
         ],
         "y": [
          0.537,
          0.901,
          0.93,
          0.946,
          0.956,
          0.966,
          0.967,
          0.975,
          0.979,
          0.981,
          0.984,
          0.984,
          0.986,
          0.99,
          0.991,
          0.991,
          0.992,
          0.992,
          0.995,
          0.995,
          0.998,
          0.998,
          0.998,
          0.998,
          0.998,
          0.999,
          0.999,
          0.999,
          0.999,
          0.999,
          0.999,
          0.999,
          0.999,
          0.999,
          1,
          1
         ]
        },
        {
         "mode": "lines+markers",
         "name": "Test Accuracy",
         "type": "scatter",
         "x": [
          0,
          10,
          20,
          30,
          40,
          50,
          60,
          70,
          80,
          90,
          100,
          110,
          120,
          130,
          140,
          150,
          160,
          170,
          180,
          190,
          200,
          210,
          220,
          230,
          240,
          250,
          260,
          270,
          280,
          290,
          300,
          310,
          320,
          330,
          340,
          349
         ],
         "y": [
          0.6488,
          0.8114,
          0.8111,
          0.8066,
          0.8019,
          0.7982,
          0.7921,
          0.7864,
          0.7817,
          0.7758,
          0.7706,
          0.7686,
          0.766,
          0.7622,
          0.758,
          0.7558,
          0.7553,
          0.751,
          0.7505,
          0.7482,
          0.7464,
          0.7446,
          0.7416,
          0.7372,
          0.7344,
          0.7316,
          0.729,
          0.7259,
          0.723,
          0.7196,
          0.7183,
          0.7165,
          0.7133,
          0.7125,
          0.71,
          0.7073
         ]
        },
        {
         "mode": "lines+markers",
         "name": "Train Accuracy with Dropout",
         "type": "scatter",
         "x": [
          0,
          10,
          20,
          30,
          40,
          50,
          60,
          70,
          80,
          90,
          100,
          110,
          120,
          130,
          140,
          150,
          160,
          170,
          180,
          190,
          200,
          210,
          220,
          230,
          240,
          250,
          260,
          270,
          280,
          290,
          300,
          310,
          320,
          330,
          340,
          349
         ],
         "y": [
          0.289,
          0.647,
          0.681,
          0.71,
          0.719,
          0.742,
          0.746,
          0.744,
          0.764,
          0.749,
          0.769,
          0.778,
          0.778,
          0.783,
          0.779,
          0.783,
          0.774,
          0.801,
          0.782,
          0.784,
          0.796,
          0.79,
          0.777,
          0.803,
          0.788,
          0.789,
          0.79,
          0.803,
          0.79,
          0.792,
          0.804,
          0.793,
          0.812,
          0.817,
          0.814,
          0.802
         ]
        },
        {
         "mode": "lines+markers",
         "name": "Test Accuracy with Dropout",
         "type": "scatter",
         "x": [
          0,
          10,
          20,
          30,
          40,
          50,
          60,
          70,
          80,
          90,
          100,
          110,
          120,
          130,
          140,
          150,
          160,
          170,
          180,
          190,
          200,
          210,
          220,
          230,
          240,
          250,
          260,
          270,
          280,
          290,
          300,
          310,
          320,
          330,
          340,
          349
         ],
         "y": [
          0.5418,
          0.7365,
          0.7621,
          0.7915,
          0.7998,
          0.8145,
          0.7974,
          0.7901,
          0.8105,
          0.7871,
          0.8039,
          0.8099,
          0.7871,
          0.811,
          0.8049,
          0.7918,
          0.81,
          0.7963,
          0.7955,
          0.7997,
          0.803,
          0.8031,
          0.8102,
          0.8058,
          0.8055,
          0.8053,
          0.8102,
          0.8062,
          0.7991,
          0.8028,
          0.7949,
          0.8036,
          0.8008,
          0.8134,
          0.8012,
          0.8078
         ]
        }
       ],
       "layout": {
        "template": {
         "data": {
          "bar": [
           {
            "error_x": {
             "color": "#2a3f5f"
            },
            "error_y": {
             "color": "#2a3f5f"
            },
            "marker": {
             "line": {
              "color": "#E5ECF6",
              "width": 0.5
             },
             "pattern": {
              "fillmode": "overlay",
              "size": 10,
              "solidity": 0.2
             }
            },
            "type": "bar"
           }
          ],
          "barpolar": [
           {
            "marker": {
             "line": {
              "color": "#E5ECF6",
              "width": 0.5
             },
             "pattern": {
              "fillmode": "overlay",
              "size": 10,
              "solidity": 0.2
             }
            },
            "type": "barpolar"
           }
          ],
          "carpet": [
           {
            "aaxis": {
             "endlinecolor": "#2a3f5f",
             "gridcolor": "white",
             "linecolor": "white",
             "minorgridcolor": "white",
             "startlinecolor": "#2a3f5f"
            },
            "baxis": {
             "endlinecolor": "#2a3f5f",
             "gridcolor": "white",
             "linecolor": "white",
             "minorgridcolor": "white",
             "startlinecolor": "#2a3f5f"
            },
            "type": "carpet"
           }
          ],
          "choropleth": [
           {
            "colorbar": {
             "outlinewidth": 0,
             "ticks": ""
            },
            "type": "choropleth"
           }
          ],
          "contour": [
           {
            "colorbar": {
             "outlinewidth": 0,
             "ticks": ""
            },
            "colorscale": [
             [
              0,
              "#0d0887"
             ],
             [
              0.1111111111111111,
              "#46039f"
             ],
             [
              0.2222222222222222,
              "#7201a8"
             ],
             [
              0.3333333333333333,
              "#9c179e"
             ],
             [
              0.4444444444444444,
              "#bd3786"
             ],
             [
              0.5555555555555556,
              "#d8576b"
             ],
             [
              0.6666666666666666,
              "#ed7953"
             ],
             [
              0.7777777777777778,
              "#fb9f3a"
             ],
             [
              0.8888888888888888,
              "#fdca26"
             ],
             [
              1,
              "#f0f921"
             ]
            ],
            "type": "contour"
           }
          ],
          "contourcarpet": [
           {
            "colorbar": {
             "outlinewidth": 0,
             "ticks": ""
            },
            "type": "contourcarpet"
           }
          ],
          "heatmap": [
           {
            "colorbar": {
             "outlinewidth": 0,
             "ticks": ""
            },
            "colorscale": [
             [
              0,
              "#0d0887"
             ],
             [
              0.1111111111111111,
              "#46039f"
             ],
             [
              0.2222222222222222,
              "#7201a8"
             ],
             [
              0.3333333333333333,
              "#9c179e"
             ],
             [
              0.4444444444444444,
              "#bd3786"
             ],
             [
              0.5555555555555556,
              "#d8576b"
             ],
             [
              0.6666666666666666,
              "#ed7953"
             ],
             [
              0.7777777777777778,
              "#fb9f3a"
             ],
             [
              0.8888888888888888,
              "#fdca26"
             ],
             [
              1,
              "#f0f921"
             ]
            ],
            "type": "heatmap"
           }
          ],
          "heatmapgl": [
           {
            "colorbar": {
             "outlinewidth": 0,
             "ticks": ""
            },
            "colorscale": [
             [
              0,
              "#0d0887"
             ],
             [
              0.1111111111111111,
              "#46039f"
             ],
             [
              0.2222222222222222,
              "#7201a8"
             ],
             [
              0.3333333333333333,
              "#9c179e"
             ],
             [
              0.4444444444444444,
              "#bd3786"
             ],
             [
              0.5555555555555556,
              "#d8576b"
             ],
             [
              0.6666666666666666,
              "#ed7953"
             ],
             [
              0.7777777777777778,
              "#fb9f3a"
             ],
             [
              0.8888888888888888,
              "#fdca26"
             ],
             [
              1,
              "#f0f921"
             ]
            ],
            "type": "heatmapgl"
           }
          ],
          "histogram": [
           {
            "marker": {
             "pattern": {
              "fillmode": "overlay",
              "size": 10,
              "solidity": 0.2
             }
            },
            "type": "histogram"
           }
          ],
          "histogram2d": [
           {
            "colorbar": {
             "outlinewidth": 0,
             "ticks": ""
            },
            "colorscale": [
             [
              0,
              "#0d0887"
             ],
             [
              0.1111111111111111,
              "#46039f"
             ],
             [
              0.2222222222222222,
              "#7201a8"
             ],
             [
              0.3333333333333333,
              "#9c179e"
             ],
             [
              0.4444444444444444,
              "#bd3786"
             ],
             [
              0.5555555555555556,
              "#d8576b"
             ],
             [
              0.6666666666666666,
              "#ed7953"
             ],
             [
              0.7777777777777778,
              "#fb9f3a"
             ],
             [
              0.8888888888888888,
              "#fdca26"
             ],
             [
              1,
              "#f0f921"
             ]
            ],
            "type": "histogram2d"
           }
          ],
          "histogram2dcontour": [
           {
            "colorbar": {
             "outlinewidth": 0,
             "ticks": ""
            },
            "colorscale": [
             [
              0,
              "#0d0887"
             ],
             [
              0.1111111111111111,
              "#46039f"
             ],
             [
              0.2222222222222222,
              "#7201a8"
             ],
             [
              0.3333333333333333,
              "#9c179e"
             ],
             [
              0.4444444444444444,
              "#bd3786"
             ],
             [
              0.5555555555555556,
              "#d8576b"
             ],
             [
              0.6666666666666666,
              "#ed7953"
             ],
             [
              0.7777777777777778,
              "#fb9f3a"
             ],
             [
              0.8888888888888888,
              "#fdca26"
             ],
             [
              1,
              "#f0f921"
             ]
            ],
            "type": "histogram2dcontour"
           }
          ],
          "mesh3d": [
           {
            "colorbar": {
             "outlinewidth": 0,
             "ticks": ""
            },
            "type": "mesh3d"
           }
          ],
          "parcoords": [
           {
            "line": {
             "colorbar": {
              "outlinewidth": 0,
              "ticks": ""
             }
            },
            "type": "parcoords"
           }
          ],
          "pie": [
           {
            "automargin": true,
            "type": "pie"
           }
          ],
          "scatter": [
           {
            "fillpattern": {
             "fillmode": "overlay",
             "size": 10,
             "solidity": 0.2
            },
            "type": "scatter"
           }
          ],
          "scatter3d": [
           {
            "line": {
             "colorbar": {
              "outlinewidth": 0,
              "ticks": ""
             }
            },
            "marker": {
             "colorbar": {
              "outlinewidth": 0,
              "ticks": ""
             }
            },
            "type": "scatter3d"
           }
          ],
          "scattercarpet": [
           {
            "marker": {
             "colorbar": {
              "outlinewidth": 0,
              "ticks": ""
             }
            },
            "type": "scattercarpet"
           }
          ],
          "scattergeo": [
           {
            "marker": {
             "colorbar": {
              "outlinewidth": 0,
              "ticks": ""
             }
            },
            "type": "scattergeo"
           }
          ],
          "scattergl": [
           {
            "marker": {
             "colorbar": {
              "outlinewidth": 0,
              "ticks": ""
             }
            },
            "type": "scattergl"
           }
          ],
          "scattermapbox": [
           {
            "marker": {
             "colorbar": {
              "outlinewidth": 0,
              "ticks": ""
             }
            },
            "type": "scattermapbox"
           }
          ],
          "scatterpolar": [
           {
            "marker": {
             "colorbar": {
              "outlinewidth": 0,
              "ticks": ""
             }
            },
            "type": "scatterpolar"
           }
          ],
          "scatterpolargl": [
           {
            "marker": {
             "colorbar": {
              "outlinewidth": 0,
              "ticks": ""
             }
            },
            "type": "scatterpolargl"
           }
          ],
          "scatterternary": [
           {
            "marker": {
             "colorbar": {
              "outlinewidth": 0,
              "ticks": ""
             }
            },
            "type": "scatterternary"
           }
          ],
          "surface": [
           {
            "colorbar": {
             "outlinewidth": 0,
             "ticks": ""
            },
            "colorscale": [
             [
              0,
              "#0d0887"
             ],
             [
              0.1111111111111111,
              "#46039f"
             ],
             [
              0.2222222222222222,
              "#7201a8"
             ],
             [
              0.3333333333333333,
              "#9c179e"
             ],
             [
              0.4444444444444444,
              "#bd3786"
             ],
             [
              0.5555555555555556,
              "#d8576b"
             ],
             [
              0.6666666666666666,
              "#ed7953"
             ],
             [
              0.7777777777777778,
              "#fb9f3a"
             ],
             [
              0.8888888888888888,
              "#fdca26"
             ],
             [
              1,
              "#f0f921"
             ]
            ],
            "type": "surface"
           }
          ],
          "table": [
           {
            "cells": {
             "fill": {
              "color": "#EBF0F8"
             },
             "line": {
              "color": "white"
             }
            },
            "header": {
             "fill": {
              "color": "#C8D4E3"
             },
             "line": {
              "color": "white"
             }
            },
            "type": "table"
           }
          ]
         },
         "layout": {
          "annotationdefaults": {
           "arrowcolor": "#2a3f5f",
           "arrowhead": 0,
           "arrowwidth": 1
          },
          "autotypenumbers": "strict",
          "coloraxis": {
           "colorbar": {
            "outlinewidth": 0,
            "ticks": ""
           }
          },
          "colorscale": {
           "diverging": [
            [
             0,
             "#8e0152"
            ],
            [
             0.1,
             "#c51b7d"
            ],
            [
             0.2,
             "#de77ae"
            ],
            [
             0.3,
             "#f1b6da"
            ],
            [
             0.4,
             "#fde0ef"
            ],
            [
             0.5,
             "#f7f7f7"
            ],
            [
             0.6,
             "#e6f5d0"
            ],
            [
             0.7,
             "#b8e186"
            ],
            [
             0.8,
             "#7fbc41"
            ],
            [
             0.9,
             "#4d9221"
            ],
            [
             1,
             "#276419"
            ]
           ],
           "sequential": [
            [
             0,
             "#0d0887"
            ],
            [
             0.1111111111111111,
             "#46039f"
            ],
            [
             0.2222222222222222,
             "#7201a8"
            ],
            [
             0.3333333333333333,
             "#9c179e"
            ],
            [
             0.4444444444444444,
             "#bd3786"
            ],
            [
             0.5555555555555556,
             "#d8576b"
            ],
            [
             0.6666666666666666,
             "#ed7953"
            ],
            [
             0.7777777777777778,
             "#fb9f3a"
            ],
            [
             0.8888888888888888,
             "#fdca26"
            ],
            [
             1,
             "#f0f921"
            ]
           ],
           "sequentialminus": [
            [
             0,
             "#0d0887"
            ],
            [
             0.1111111111111111,
             "#46039f"
            ],
            [
             0.2222222222222222,
             "#7201a8"
            ],
            [
             0.3333333333333333,
             "#9c179e"
            ],
            [
             0.4444444444444444,
             "#bd3786"
            ],
            [
             0.5555555555555556,
             "#d8576b"
            ],
            [
             0.6666666666666666,
             "#ed7953"
            ],
            [
             0.7777777777777778,
             "#fb9f3a"
            ],
            [
             0.8888888888888888,
             "#fdca26"
            ],
            [
             1,
             "#f0f921"
            ]
           ]
          },
          "colorway": [
           "#636efa",
           "#EF553B",
           "#00cc96",
           "#ab63fa",
           "#FFA15A",
           "#19d3f3",
           "#FF6692",
           "#B6E880",
           "#FF97FF",
           "#FECB52"
          ],
          "font": {
           "color": "#2a3f5f"
          },
          "geo": {
           "bgcolor": "white",
           "lakecolor": "white",
           "landcolor": "#E5ECF6",
           "showlakes": true,
           "showland": true,
           "subunitcolor": "white"
          },
          "hoverlabel": {
           "align": "left"
          },
          "hovermode": "closest",
          "mapbox": {
           "style": "light"
          },
          "paper_bgcolor": "white",
          "plot_bgcolor": "#E5ECF6",
          "polar": {
           "angularaxis": {
            "gridcolor": "white",
            "linecolor": "white",
            "ticks": ""
           },
           "bgcolor": "#E5ECF6",
           "radialaxis": {
            "gridcolor": "white",
            "linecolor": "white",
            "ticks": ""
           }
          },
          "scene": {
           "xaxis": {
            "backgroundcolor": "#E5ECF6",
            "gridcolor": "white",
            "gridwidth": 2,
            "linecolor": "white",
            "showbackground": true,
            "ticks": "",
            "zerolinecolor": "white"
           },
           "yaxis": {
            "backgroundcolor": "#E5ECF6",
            "gridcolor": "white",
            "gridwidth": 2,
            "linecolor": "white",
            "showbackground": true,
            "ticks": "",
            "zerolinecolor": "white"
           },
           "zaxis": {
            "backgroundcolor": "#E5ECF6",
            "gridcolor": "white",
            "gridwidth": 2,
            "linecolor": "white",
            "showbackground": true,
            "ticks": "",
            "zerolinecolor": "white"
           }
          },
          "shapedefaults": {
           "line": {
            "color": "#2a3f5f"
           }
          },
          "ternary": {
           "aaxis": {
            "gridcolor": "white",
            "linecolor": "white",
            "ticks": ""
           },
           "baxis": {
            "gridcolor": "white",
            "linecolor": "white",
            "ticks": ""
           },
           "bgcolor": "#E5ECF6",
           "caxis": {
            "gridcolor": "white",
            "linecolor": "white",
            "ticks": ""
           }
          },
          "title": {
           "x": 0.05
          },
          "xaxis": {
           "automargin": true,
           "gridcolor": "white",
           "linecolor": "white",
           "ticks": "",
           "title": {
            "standoff": 15
           },
           "zerolinecolor": "white",
           "zerolinewidth": 2
          },
          "yaxis": {
           "automargin": true,
           "gridcolor": "white",
           "linecolor": "white",
           "ticks": "",
           "title": {
            "standoff": 15
           },
           "zerolinecolor": "white",
           "zerolinewidth": 2
          }
         }
        },
        "title": {
         "text": "Train and Test Accuracy"
        },
        "xaxis": {
         "title": {
          "text": "Iterations"
         }
        },
        "yaxis": {
         "title": {
          "text": "Accuracy"
         }
        }
       }
      }
     },
     "metadata": {},
     "output_type": "display_data"
    }
   ],
   "source": [
    "# Load the MNIST dataset\n",
    "(x_train, y_train), (x_test, y_test) = mnist.load_data()\n",
    "\n",
    "# Preprocess the training data\n",
    "train_images = x_train[0:1000].reshape(1000, 28*28) / 255\n",
    "train_labels = np.zeros((len(y_train[0:1000]), 10))\n",
    "for i, l in enumerate(y_train[0:1000]):\n",
    "    train_labels[i][l] = 1\n",
    "\n",
    "# Assign labels to one_hot_labels\n",
    "labels = train_labels\n",
    "\n",
    "# Preprocess the test data\n",
    "test_images = x_test.reshape(len(x_test), 28*28) / 255\n",
    "test_labels = np.zeros((len(y_test), 10))\n",
    "for i, l in enumerate(y_test):\n",
    "    test_labels[i][l] = 1\n",
    "\n",
    "np.random.seed(1)\n",
    "relu = lambda x: (x >= 0) * x\n",
    "relu2deriv = lambda x: x >= 0\n",
    "\n",
    "alpha, iterations, hidden_size, pixels_per_image, num_labels = (0.005, 350, 40, 784, 10)\n",
    "weights_0_1 = 0.2*np.random.random((pixels_per_image, hidden_size)) - 0.1\n",
    "weights_1_2 = 0.2*np.random.random((hidden_size, num_labels)) - 0.1\n",
    "\n",
    "train_acc_list_dropout = {}\n",
    "test_acc_list_dropout = {}\n",
    "\n",
    "for j in range(iterations):\n",
    "    error, correct_cnt = (0.0, 0)\n",
    "    for i in range(len(train_images)):\n",
    "        layer_0 = train_images[i:i+1]\n",
    "        layer_1 = relu(np.dot(layer_0, weights_0_1))\n",
    "        dropout_mask = np.random.randint(2, size=layer_1.shape)\n",
    "        layer_1 *= dropout_mask * 2\n",
    "        layer_2 = np.dot(layer_1, weights_1_2)\n",
    "\n",
    "        error += np.sum((labels[i:i+1] - layer_2) ** 2)\n",
    "        correct_cnt += int(np.argmax(layer_2) == np.argmax(labels[i:i+1]))\n",
    "\n",
    "        layer_2_delta = (labels[i:i+1] - layer_2)\n",
    "        layer_1_delta = layer_2_delta.dot(weights_1_2.T)*relu2deriv(layer_1)\n",
    "        layer_1_delta *= dropout_mask\n",
    "\n",
    "        weights_1_2 += alpha * layer_1.T.dot(layer_2_delta)\n",
    "        weights_0_1 += alpha * layer_0.T.dot(layer_1_delta)\n",
    "\n",
    "    sys.stdout.write(\"\\r\" + \\\n",
    "                     \" I:\" + str(j) + \\\n",
    "                     \" Error:\" + str(error/float(len(train_images)))[0:5] + \\\n",
    "                     \" Correct:\" + str(correct_cnt/float(len(train_images))))\n",
    "    if (j % 10 == 0 or j == iterations-1):\n",
    "        train_acc_list_dropout[j] = correct_cnt/float(len(train_images))\n",
    "        error, correct_cnt = (0.0, 0)\n",
    "        for i in range(len(test_images)):\n",
    "            layer_0 = test_images[i:i+1]\n",
    "            layer_1 = relu(np.dot(layer_0, weights_0_1))\n",
    "            layer_2 = np.dot(layer_1, weights_1_2)\n",
    "\n",
    "            error += np.sum((test_labels[i:i+1] - layer_2) ** 2)\n",
    "            correct_cnt += int(np.argmax(layer_2) == np.argmax(test_labels[i:i+1]))\n",
    "        sys.stdout.write(\" Test-Err:\" + str(error/float(len(test_images)))[0:5] + \\\n",
    "                         \" Test-Acc:\" + str(correct_cnt/float(len(test_images))) + \"\\n\")\n",
    "        test_acc_list_dropout[j] = correct_cnt/float(len(test_images))\n",
    "\n",
    "\n",
    "# draw the graph in the end of the training and testing accuracy in plotly\n",
    "fig = go.Figure()\n",
    "fig.add_trace(go.Scatter(x=list(train_acc_list.keys()), y=list(train_acc_list.values()), mode='lines+markers', name='Train Accuracy'))\n",
    "fig.add_trace(go.Scatter(x=list(test_acc_list.keys()), y=list(test_acc_list.values()), mode='lines+markers', name='Test Accuracy'))\n",
    "fig.add_trace(go.Scatter(x=list(train_acc_list_dropout.keys()), y=list(train_acc_list_dropout.values()), mode='lines+markers', name='Train Accuracy with Dropout'))\n",
    "fig.add_trace(go.Scatter(x=list(test_acc_list_dropout.keys()), y=list(test_acc_list_dropout.values()), mode='lines+markers', name='Test Accuracy with Dropout'))\n",
    "fig.update_layout(title='Train and Test Accuracy', xaxis_title='Iterations', yaxis_title='Accuracy')\n",
    "fig.show()\n"
   ]
  },
  {
   "cell_type": "markdown",
   "metadata": {},
   "source": [
    "## Пактный градиентный спуск (mini-batch gradient descent)\n",
    "- это метод оптимизации, который используется для обучения нейронных сетей. Он является модификацией стохастического градиентного спуска (SGD), в котором вместо одного примера используется небольшой набор примеров. Это позволяет уменьшить дисперсию градиента и ускорить обучение."
   ]
  },
  {
   "cell_type": "code",
   "execution_count": 11,
   "metadata": {},
   "outputs": [
    {
     "name": "stdout",
     "output_type": "stream",
     "text": [
      " I:0 Test-Err:0.823 Test-Acc:0.3943 Train-Err:1.253 Train-Acc:0.136\n",
      " I:10 Test-Err:0.568 Test-Acc:0.7431 Train-Err:0.605 Train-Acc:0.694\n",
      " I:20 Test-Err:0.507 Test-Acc:0.7814 Train-Err:0.537 Train-Acc:0.732\n",
      " I:30 Test-Err:0.475 Test-Acc:0.7998 Train-Err:0.500 Train-Acc:0.746\n",
      " I:40 Test-Err:0.453 Test-Acc:0.8041 Train-Err:0.475 Train-Acc:0.764\n",
      " I:50 Test-Err:0.446 Test-Acc:0.8005 Train-Err:0.451 Train-Acc:0.781\n",
      " I:60 Test-Err:0.437 Test-Acc:0.7981 Train-Err:0.453 Train-Acc:0.803\n",
      " I:70 Test-Err:0.440 Test-Acc:0.8001 Train-Err:0.448 Train-Acc:0.788\n",
      " I:80 Test-Err:0.442 Test-Acc:0.7912 Train-Err:0.445 Train-Acc:0.806\n",
      " I:90 Test-Err:0.436 Test-Acc:0.7989 Train-Err:0.444 Train-Acc:0.79\n",
      " I:100 Test-Err:0.443 Test-Acc:0.7899 Train-Err:0.457 Train-Acc:0.781\n",
      " I:110 Test-Err:0.435 Test-Acc:0.8018 Train-Err:0.437 Train-Acc:0.809\n",
      " I:120 Test-Err:0.442 Test-Acc:0.7986 Train-Err:0.432 Train-Acc:0.813\n",
      " I:130 Test-Err:0.442 Test-Acc:0.8048 Train-Err:0.434 Train-Acc:0.82\n",
      " I:140 Test-Err:0.438 Test-Acc:0.801 Train-Err:0.430 Train-Acc:0.812\n",
      " I:150 Test-Err:0.440 Test-Acc:0.7982 Train-Err:0.418 Train-Acc:0.829\n",
      " I:160 Test-Err:0.436 Test-Acc:0.803 Train-Err:0.409 Train-Acc:0.827\n",
      " I:170 Test-Err:0.439 Test-Acc:0.7962 Train-Err:0.406 Train-Acc:0.83\n",
      " I:180 Test-Err:0.437 Test-Acc:0.796 Train-Err:0.405 Train-Acc:0.825\n",
      " I:190 Test-Err:0.433 Test-Acc:0.8034 Train-Err:0.400 Train-Acc:0.804\n",
      " I:200 Test-Err:0.434 Test-Acc:0.7972 Train-Err:0.416 Train-Acc:0.829\n",
      " I:210 Test-Err:0.435 Test-Acc:0.7965 Train-Err:0.412 Train-Acc:0.83\n",
      " I:220 Test-Err:0.433 Test-Acc:0.7968 Train-Err:0.412 Train-Acc:0.835\n",
      " I:230 Test-Err:0.430 Test-Acc:0.7979 Train-Err:0.388 Train-Acc:0.854\n",
      " I:240 Test-Err:0.432 Test-Acc:0.7986 Train-Err:0.406 Train-Acc:0.845\n",
      " I:250 Test-Err:0.425 Test-Acc:0.7971 Train-Err:0.391 Train-Acc:0.845\n",
      " I:260 Test-Err:0.426 Test-Acc:0.7997 Train-Err:0.396 Train-Acc:0.831\n",
      " I:270 Test-Err:0.428 Test-Acc:0.8044 Train-Err:0.380 Train-Acc:0.842\n",
      " I:280 Test-Err:0.423 Test-Acc:0.8027 Train-Err:0.386 Train-Acc:0.837\n",
      " I:290 Test-Err:0.420 Test-Acc:0.7994 Train-Err:0.375 Train-Acc:0.866\n",
      " I:299 Test-Err:0.419 Test-Acc:0.8034 Train-Err:0.387 Train-Acc:0.841\n"
     ]
    },
    {
     "data": {
      "application/vnd.plotly.v1+json": {
       "config": {
        "plotlyServerURL": "https://plot.ly"
       },
       "data": [
        {
         "mode": "lines+markers",
         "name": "Train Accuracy",
         "type": "scatter",
         "x": [
          0,
          10,
          20,
          30,
          40,
          50,
          60,
          70,
          80,
          90,
          100,
          110,
          120,
          130,
          140,
          150,
          160,
          170,
          180,
          190,
          200,
          210,
          220,
          230,
          240,
          250,
          260,
          270,
          280,
          290,
          300,
          310,
          320,
          330,
          340,
          349
         ],
         "y": [
          0.537,
          0.901,
          0.93,
          0.946,
          0.956,
          0.966,
          0.967,
          0.975,
          0.979,
          0.981,
          0.984,
          0.984,
          0.986,
          0.99,
          0.991,
          0.991,
          0.992,
          0.992,
          0.995,
          0.995,
          0.998,
          0.998,
          0.998,
          0.998,
          0.998,
          0.999,
          0.999,
          0.999,
          0.999,
          0.999,
          0.999,
          0.999,
          0.999,
          0.999,
          1,
          1
         ]
        },
        {
         "mode": "lines+markers",
         "name": "Test Accuracy",
         "type": "scatter",
         "x": [
          0,
          10,
          20,
          30,
          40,
          50,
          60,
          70,
          80,
          90,
          100,
          110,
          120,
          130,
          140,
          150,
          160,
          170,
          180,
          190,
          200,
          210,
          220,
          230,
          240,
          250,
          260,
          270,
          280,
          290,
          300,
          310,
          320,
          330,
          340,
          349
         ],
         "y": [
          0.6488,
          0.8114,
          0.8111,
          0.8066,
          0.8019,
          0.7982,
          0.7921,
          0.7864,
          0.7817,
          0.7758,
          0.7706,
          0.7686,
          0.766,
          0.7622,
          0.758,
          0.7558,
          0.7553,
          0.751,
          0.7505,
          0.7482,
          0.7464,
          0.7446,
          0.7416,
          0.7372,
          0.7344,
          0.7316,
          0.729,
          0.7259,
          0.723,
          0.7196,
          0.7183,
          0.7165,
          0.7133,
          0.7125,
          0.71,
          0.7073
         ]
        },
        {
         "mode": "lines+markers",
         "name": "Train Accuracy with Dropout",
         "type": "scatter",
         "x": [
          0,
          10,
          20,
          30,
          40,
          50,
          60,
          70,
          80,
          90,
          100,
          110,
          120,
          130,
          140,
          150,
          160,
          170,
          180,
          190,
          200,
          210,
          220,
          230,
          240,
          250,
          260,
          270,
          280,
          290,
          300,
          310,
          320,
          330,
          340,
          349
         ],
         "y": [
          0.289,
          0.647,
          0.681,
          0.71,
          0.719,
          0.742,
          0.746,
          0.744,
          0.764,
          0.749,
          0.769,
          0.778,
          0.778,
          0.783,
          0.779,
          0.783,
          0.774,
          0.801,
          0.782,
          0.784,
          0.796,
          0.79,
          0.777,
          0.803,
          0.788,
          0.789,
          0.79,
          0.803,
          0.79,
          0.792,
          0.804,
          0.793,
          0.812,
          0.817,
          0.814,
          0.802
         ]
        },
        {
         "mode": "lines+markers",
         "name": "Test Accuracy with Dropout",
         "type": "scatter",
         "x": [
          0,
          10,
          20,
          30,
          40,
          50,
          60,
          70,
          80,
          90,
          100,
          110,
          120,
          130,
          140,
          150,
          160,
          170,
          180,
          190,
          200,
          210,
          220,
          230,
          240,
          250,
          260,
          270,
          280,
          290,
          300,
          310,
          320,
          330,
          340,
          349
         ],
         "y": [
          0.5418,
          0.7365,
          0.7621,
          0.7915,
          0.7998,
          0.8145,
          0.7974,
          0.7901,
          0.8105,
          0.7871,
          0.8039,
          0.8099,
          0.7871,
          0.811,
          0.8049,
          0.7918,
          0.81,
          0.7963,
          0.7955,
          0.7997,
          0.803,
          0.8031,
          0.8102,
          0.8058,
          0.8055,
          0.8053,
          0.8102,
          0.8062,
          0.7991,
          0.8028,
          0.7949,
          0.8036,
          0.8008,
          0.8134,
          0.8012,
          0.8078
         ]
        },
        {
         "mode": "lines+markers",
         "name": "Train Accuracy with Minibatch",
         "type": "scatter",
         "x": [
          0,
          10,
          20,
          30,
          40,
          50,
          60,
          70,
          80,
          90,
          100,
          110,
          120,
          130,
          140,
          150,
          160,
          170,
          180,
          190,
          200,
          210,
          220,
          230,
          240,
          250,
          260,
          270,
          280,
          290,
          299
         ],
         "y": [
          0.136,
          0.694,
          0.732,
          0.746,
          0.764,
          0.781,
          0.803,
          0.788,
          0.806,
          0.79,
          0.781,
          0.809,
          0.813,
          0.82,
          0.812,
          0.829,
          0.827,
          0.83,
          0.825,
          0.804,
          0.829,
          0.83,
          0.835,
          0.854,
          0.845,
          0.845,
          0.831,
          0.842,
          0.837,
          0.866,
          0.841
         ]
        },
        {
         "mode": "lines+markers",
         "name": "Test Accuracy with Minibatch",
         "type": "scatter",
         "x": [
          0,
          10,
          20,
          30,
          40,
          50,
          60,
          70,
          80,
          90,
          100,
          110,
          120,
          130,
          140,
          150,
          160,
          170,
          180,
          190,
          200,
          210,
          220,
          230,
          240,
          250,
          260,
          270,
          280,
          290,
          299
         ],
         "y": [
          0.3943,
          0.7431,
          0.7814,
          0.7998,
          0.8041,
          0.8005,
          0.7981,
          0.8001,
          0.7912,
          0.7989,
          0.7899,
          0.8018,
          0.7986,
          0.8048,
          0.801,
          0.7982,
          0.803,
          0.7962,
          0.796,
          0.8034,
          0.7972,
          0.7965,
          0.7968,
          0.7979,
          0.7986,
          0.7971,
          0.7997,
          0.8044,
          0.8027,
          0.7994,
          0.8034
         ]
        }
       ],
       "layout": {
        "template": {
         "data": {
          "bar": [
           {
            "error_x": {
             "color": "#2a3f5f"
            },
            "error_y": {
             "color": "#2a3f5f"
            },
            "marker": {
             "line": {
              "color": "#E5ECF6",
              "width": 0.5
             },
             "pattern": {
              "fillmode": "overlay",
              "size": 10,
              "solidity": 0.2
             }
            },
            "type": "bar"
           }
          ],
          "barpolar": [
           {
            "marker": {
             "line": {
              "color": "#E5ECF6",
              "width": 0.5
             },
             "pattern": {
              "fillmode": "overlay",
              "size": 10,
              "solidity": 0.2
             }
            },
            "type": "barpolar"
           }
          ],
          "carpet": [
           {
            "aaxis": {
             "endlinecolor": "#2a3f5f",
             "gridcolor": "white",
             "linecolor": "white",
             "minorgridcolor": "white",
             "startlinecolor": "#2a3f5f"
            },
            "baxis": {
             "endlinecolor": "#2a3f5f",
             "gridcolor": "white",
             "linecolor": "white",
             "minorgridcolor": "white",
             "startlinecolor": "#2a3f5f"
            },
            "type": "carpet"
           }
          ],
          "choropleth": [
           {
            "colorbar": {
             "outlinewidth": 0,
             "ticks": ""
            },
            "type": "choropleth"
           }
          ],
          "contour": [
           {
            "colorbar": {
             "outlinewidth": 0,
             "ticks": ""
            },
            "colorscale": [
             [
              0,
              "#0d0887"
             ],
             [
              0.1111111111111111,
              "#46039f"
             ],
             [
              0.2222222222222222,
              "#7201a8"
             ],
             [
              0.3333333333333333,
              "#9c179e"
             ],
             [
              0.4444444444444444,
              "#bd3786"
             ],
             [
              0.5555555555555556,
              "#d8576b"
             ],
             [
              0.6666666666666666,
              "#ed7953"
             ],
             [
              0.7777777777777778,
              "#fb9f3a"
             ],
             [
              0.8888888888888888,
              "#fdca26"
             ],
             [
              1,
              "#f0f921"
             ]
            ],
            "type": "contour"
           }
          ],
          "contourcarpet": [
           {
            "colorbar": {
             "outlinewidth": 0,
             "ticks": ""
            },
            "type": "contourcarpet"
           }
          ],
          "heatmap": [
           {
            "colorbar": {
             "outlinewidth": 0,
             "ticks": ""
            },
            "colorscale": [
             [
              0,
              "#0d0887"
             ],
             [
              0.1111111111111111,
              "#46039f"
             ],
             [
              0.2222222222222222,
              "#7201a8"
             ],
             [
              0.3333333333333333,
              "#9c179e"
             ],
             [
              0.4444444444444444,
              "#bd3786"
             ],
             [
              0.5555555555555556,
              "#d8576b"
             ],
             [
              0.6666666666666666,
              "#ed7953"
             ],
             [
              0.7777777777777778,
              "#fb9f3a"
             ],
             [
              0.8888888888888888,
              "#fdca26"
             ],
             [
              1,
              "#f0f921"
             ]
            ],
            "type": "heatmap"
           }
          ],
          "heatmapgl": [
           {
            "colorbar": {
             "outlinewidth": 0,
             "ticks": ""
            },
            "colorscale": [
             [
              0,
              "#0d0887"
             ],
             [
              0.1111111111111111,
              "#46039f"
             ],
             [
              0.2222222222222222,
              "#7201a8"
             ],
             [
              0.3333333333333333,
              "#9c179e"
             ],
             [
              0.4444444444444444,
              "#bd3786"
             ],
             [
              0.5555555555555556,
              "#d8576b"
             ],
             [
              0.6666666666666666,
              "#ed7953"
             ],
             [
              0.7777777777777778,
              "#fb9f3a"
             ],
             [
              0.8888888888888888,
              "#fdca26"
             ],
             [
              1,
              "#f0f921"
             ]
            ],
            "type": "heatmapgl"
           }
          ],
          "histogram": [
           {
            "marker": {
             "pattern": {
              "fillmode": "overlay",
              "size": 10,
              "solidity": 0.2
             }
            },
            "type": "histogram"
           }
          ],
          "histogram2d": [
           {
            "colorbar": {
             "outlinewidth": 0,
             "ticks": ""
            },
            "colorscale": [
             [
              0,
              "#0d0887"
             ],
             [
              0.1111111111111111,
              "#46039f"
             ],
             [
              0.2222222222222222,
              "#7201a8"
             ],
             [
              0.3333333333333333,
              "#9c179e"
             ],
             [
              0.4444444444444444,
              "#bd3786"
             ],
             [
              0.5555555555555556,
              "#d8576b"
             ],
             [
              0.6666666666666666,
              "#ed7953"
             ],
             [
              0.7777777777777778,
              "#fb9f3a"
             ],
             [
              0.8888888888888888,
              "#fdca26"
             ],
             [
              1,
              "#f0f921"
             ]
            ],
            "type": "histogram2d"
           }
          ],
          "histogram2dcontour": [
           {
            "colorbar": {
             "outlinewidth": 0,
             "ticks": ""
            },
            "colorscale": [
             [
              0,
              "#0d0887"
             ],
             [
              0.1111111111111111,
              "#46039f"
             ],
             [
              0.2222222222222222,
              "#7201a8"
             ],
             [
              0.3333333333333333,
              "#9c179e"
             ],
             [
              0.4444444444444444,
              "#bd3786"
             ],
             [
              0.5555555555555556,
              "#d8576b"
             ],
             [
              0.6666666666666666,
              "#ed7953"
             ],
             [
              0.7777777777777778,
              "#fb9f3a"
             ],
             [
              0.8888888888888888,
              "#fdca26"
             ],
             [
              1,
              "#f0f921"
             ]
            ],
            "type": "histogram2dcontour"
           }
          ],
          "mesh3d": [
           {
            "colorbar": {
             "outlinewidth": 0,
             "ticks": ""
            },
            "type": "mesh3d"
           }
          ],
          "parcoords": [
           {
            "line": {
             "colorbar": {
              "outlinewidth": 0,
              "ticks": ""
             }
            },
            "type": "parcoords"
           }
          ],
          "pie": [
           {
            "automargin": true,
            "type": "pie"
           }
          ],
          "scatter": [
           {
            "fillpattern": {
             "fillmode": "overlay",
             "size": 10,
             "solidity": 0.2
            },
            "type": "scatter"
           }
          ],
          "scatter3d": [
           {
            "line": {
             "colorbar": {
              "outlinewidth": 0,
              "ticks": ""
             }
            },
            "marker": {
             "colorbar": {
              "outlinewidth": 0,
              "ticks": ""
             }
            },
            "type": "scatter3d"
           }
          ],
          "scattercarpet": [
           {
            "marker": {
             "colorbar": {
              "outlinewidth": 0,
              "ticks": ""
             }
            },
            "type": "scattercarpet"
           }
          ],
          "scattergeo": [
           {
            "marker": {
             "colorbar": {
              "outlinewidth": 0,
              "ticks": ""
             }
            },
            "type": "scattergeo"
           }
          ],
          "scattergl": [
           {
            "marker": {
             "colorbar": {
              "outlinewidth": 0,
              "ticks": ""
             }
            },
            "type": "scattergl"
           }
          ],
          "scattermapbox": [
           {
            "marker": {
             "colorbar": {
              "outlinewidth": 0,
              "ticks": ""
             }
            },
            "type": "scattermapbox"
           }
          ],
          "scatterpolar": [
           {
            "marker": {
             "colorbar": {
              "outlinewidth": 0,
              "ticks": ""
             }
            },
            "type": "scatterpolar"
           }
          ],
          "scatterpolargl": [
           {
            "marker": {
             "colorbar": {
              "outlinewidth": 0,
              "ticks": ""
             }
            },
            "type": "scatterpolargl"
           }
          ],
          "scatterternary": [
           {
            "marker": {
             "colorbar": {
              "outlinewidth": 0,
              "ticks": ""
             }
            },
            "type": "scatterternary"
           }
          ],
          "surface": [
           {
            "colorbar": {
             "outlinewidth": 0,
             "ticks": ""
            },
            "colorscale": [
             [
              0,
              "#0d0887"
             ],
             [
              0.1111111111111111,
              "#46039f"
             ],
             [
              0.2222222222222222,
              "#7201a8"
             ],
             [
              0.3333333333333333,
              "#9c179e"
             ],
             [
              0.4444444444444444,
              "#bd3786"
             ],
             [
              0.5555555555555556,
              "#d8576b"
             ],
             [
              0.6666666666666666,
              "#ed7953"
             ],
             [
              0.7777777777777778,
              "#fb9f3a"
             ],
             [
              0.8888888888888888,
              "#fdca26"
             ],
             [
              1,
              "#f0f921"
             ]
            ],
            "type": "surface"
           }
          ],
          "table": [
           {
            "cells": {
             "fill": {
              "color": "#EBF0F8"
             },
             "line": {
              "color": "white"
             }
            },
            "header": {
             "fill": {
              "color": "#C8D4E3"
             },
             "line": {
              "color": "white"
             }
            },
            "type": "table"
           }
          ]
         },
         "layout": {
          "annotationdefaults": {
           "arrowcolor": "#2a3f5f",
           "arrowhead": 0,
           "arrowwidth": 1
          },
          "autotypenumbers": "strict",
          "coloraxis": {
           "colorbar": {
            "outlinewidth": 0,
            "ticks": ""
           }
          },
          "colorscale": {
           "diverging": [
            [
             0,
             "#8e0152"
            ],
            [
             0.1,
             "#c51b7d"
            ],
            [
             0.2,
             "#de77ae"
            ],
            [
             0.3,
             "#f1b6da"
            ],
            [
             0.4,
             "#fde0ef"
            ],
            [
             0.5,
             "#f7f7f7"
            ],
            [
             0.6,
             "#e6f5d0"
            ],
            [
             0.7,
             "#b8e186"
            ],
            [
             0.8,
             "#7fbc41"
            ],
            [
             0.9,
             "#4d9221"
            ],
            [
             1,
             "#276419"
            ]
           ],
           "sequential": [
            [
             0,
             "#0d0887"
            ],
            [
             0.1111111111111111,
             "#46039f"
            ],
            [
             0.2222222222222222,
             "#7201a8"
            ],
            [
             0.3333333333333333,
             "#9c179e"
            ],
            [
             0.4444444444444444,
             "#bd3786"
            ],
            [
             0.5555555555555556,
             "#d8576b"
            ],
            [
             0.6666666666666666,
             "#ed7953"
            ],
            [
             0.7777777777777778,
             "#fb9f3a"
            ],
            [
             0.8888888888888888,
             "#fdca26"
            ],
            [
             1,
             "#f0f921"
            ]
           ],
           "sequentialminus": [
            [
             0,
             "#0d0887"
            ],
            [
             0.1111111111111111,
             "#46039f"
            ],
            [
             0.2222222222222222,
             "#7201a8"
            ],
            [
             0.3333333333333333,
             "#9c179e"
            ],
            [
             0.4444444444444444,
             "#bd3786"
            ],
            [
             0.5555555555555556,
             "#d8576b"
            ],
            [
             0.6666666666666666,
             "#ed7953"
            ],
            [
             0.7777777777777778,
             "#fb9f3a"
            ],
            [
             0.8888888888888888,
             "#fdca26"
            ],
            [
             1,
             "#f0f921"
            ]
           ]
          },
          "colorway": [
           "#636efa",
           "#EF553B",
           "#00cc96",
           "#ab63fa",
           "#FFA15A",
           "#19d3f3",
           "#FF6692",
           "#B6E880",
           "#FF97FF",
           "#FECB52"
          ],
          "font": {
           "color": "#2a3f5f"
          },
          "geo": {
           "bgcolor": "white",
           "lakecolor": "white",
           "landcolor": "#E5ECF6",
           "showlakes": true,
           "showland": true,
           "subunitcolor": "white"
          },
          "hoverlabel": {
           "align": "left"
          },
          "hovermode": "closest",
          "mapbox": {
           "style": "light"
          },
          "paper_bgcolor": "white",
          "plot_bgcolor": "#E5ECF6",
          "polar": {
           "angularaxis": {
            "gridcolor": "white",
            "linecolor": "white",
            "ticks": ""
           },
           "bgcolor": "#E5ECF6",
           "radialaxis": {
            "gridcolor": "white",
            "linecolor": "white",
            "ticks": ""
           }
          },
          "scene": {
           "xaxis": {
            "backgroundcolor": "#E5ECF6",
            "gridcolor": "white",
            "gridwidth": 2,
            "linecolor": "white",
            "showbackground": true,
            "ticks": "",
            "zerolinecolor": "white"
           },
           "yaxis": {
            "backgroundcolor": "#E5ECF6",
            "gridcolor": "white",
            "gridwidth": 2,
            "linecolor": "white",
            "showbackground": true,
            "ticks": "",
            "zerolinecolor": "white"
           },
           "zaxis": {
            "backgroundcolor": "#E5ECF6",
            "gridcolor": "white",
            "gridwidth": 2,
            "linecolor": "white",
            "showbackground": true,
            "ticks": "",
            "zerolinecolor": "white"
           }
          },
          "shapedefaults": {
           "line": {
            "color": "#2a3f5f"
           }
          },
          "ternary": {
           "aaxis": {
            "gridcolor": "white",
            "linecolor": "white",
            "ticks": ""
           },
           "baxis": {
            "gridcolor": "white",
            "linecolor": "white",
            "ticks": ""
           },
           "bgcolor": "#E5ECF6",
           "caxis": {
            "gridcolor": "white",
            "linecolor": "white",
            "ticks": ""
           }
          },
          "title": {
           "x": 0.05
          },
          "xaxis": {
           "automargin": true,
           "gridcolor": "white",
           "linecolor": "white",
           "ticks": "",
           "title": {
            "standoff": 15
           },
           "zerolinecolor": "white",
           "zerolinewidth": 2
          },
          "yaxis": {
           "automargin": true,
           "gridcolor": "white",
           "linecolor": "white",
           "ticks": "",
           "title": {
            "standoff": 15
           },
           "zerolinecolor": "white",
           "zerolinewidth": 2
          }
         }
        },
        "title": {
         "text": "Train and Test Accuracy"
        },
        "xaxis": {
         "title": {
          "text": "Iterations"
         }
        },
        "yaxis": {
         "title": {
          "text": "Accuracy"
         }
        }
       }
      }
     },
     "metadata": {},
     "output_type": "display_data"
    }
   ],
   "source": [
    "batch_size = 100\n",
    "alpha, iterations = (0.001, 300)\n",
    "pixels_per_image, num_labels, hidden_size = (784, 10, 100)\n",
    "\n",
    "weights_0_1 = 0.2*np.random.random((pixels_per_image, hidden_size)) - 0.1\n",
    "weights_1_2 = 0.2*np.random.random((hidden_size, num_labels)) - 0.1\n",
    "\n",
    "train_acc_list_minibatch = {}\n",
    "test_acc_list_minibatch = {}\n",
    "\n",
    "for j in range(iterations):\n",
    "    error, correct_cnt = (0.0, 0)\n",
    "    for i in range(int(len(train_images) / batch_size)):\n",
    "        batch_start, batch_end = ((i * batch_size), ((i+1)*batch_size))\n",
    "        layer_0 = train_images[batch_start:batch_end]\n",
    "        layer_1 = relu(np.dot(layer_0, weights_0_1))\n",
    "        dropout_mask = np.random.randint(2, size=layer_1.shape)\n",
    "        layer_1 *= dropout_mask * 2\n",
    "        layer_2 = np.dot(layer_1, weights_1_2)\n",
    "\n",
    "        error += np.sum((labels[batch_start:batch_end] - layer_2) ** 2)\n",
    "        for k in range(batch_size):\n",
    "            correct_cnt += int(np.argmax(layer_2[k:k+1]) == np.argmax(labels[batch_start+k:batch_start+k+1]))\n",
    "\n",
    "            layer_2_delta = (labels[batch_start:batch_end] - layer_2) / batch_size\n",
    "            layer_1_delta = layer_2_delta.dot(weights_1_2.T)*relu2deriv(layer_1)\n",
    "            layer_1_delta *= dropout_mask\n",
    "\n",
    "            weights_1_2 += alpha * layer_1.T.dot(layer_2_delta)\n",
    "            weights_0_1 += alpha * layer_0.T.dot(layer_1_delta)\n",
    "    if (j%10 ==0 or j == iterations-1):\n",
    "        test_error = 0.0\n",
    "        test_correct_cnt = 0\n",
    "\n",
    "        for i in range(len(test_images)):\n",
    "            layer_0 = test_images[i:i+1]\n",
    "            layer_1 = relu(np.dot(layer_0, weights_0_1))\n",
    "            layer_2 = np.dot(layer_1, weights_1_2)\n",
    "\n",
    "            test_error += np.sum((test_labels[i:i+1] - layer_2) ** 2)\n",
    "            test_correct_cnt += int(np.argmax(layer_2) == np.argmax(test_labels[i:i+1]))\n",
    "        sys.stdout.write(\" I:\" + str(j) + \\\n",
    "                         \" Test-Err:\" + str(test_error/float(len(test_images)))[0:5] + \\\n",
    "                         \" Test-Acc:\" + str(test_correct_cnt/float(len(test_images))) + \\\n",
    "                         \" Train-Err:\" + str(error/float(len(train_images)))[0:5] + \\\n",
    "                         \" Train-Acc:\" + str(correct_cnt/float(len(train_images))) + \"\\n\")\n",
    "        train_acc_list_minibatch[j] = correct_cnt/float(len(train_images))\n",
    "        test_acc_list_minibatch[j] = test_correct_cnt/float(len(test_images))\n",
    "\n",
    "\n",
    "fig = go.Figure()\n",
    "fig.add_trace(go.Scatter(x=list(train_acc_list.keys()), y=list(train_acc_list.values()), mode='lines+markers', name='Train Accuracy'))\n",
    "fig.add_trace(go.Scatter(x=list(test_acc_list.keys()), y=list(test_acc_list.values()), mode='lines+markers', name='Test Accuracy'))\n",
    "fig.add_trace(go.Scatter(x=list(train_acc_list_dropout.keys()), y=list(train_acc_list_dropout.values()), mode='lines+markers', name='Train Accuracy with Dropout'))\n",
    "fig.add_trace(go.Scatter(x=list(test_acc_list_dropout.keys()), y=list(test_acc_list_dropout.values()), mode='lines+markers', name='Test Accuracy with Dropout'))\n",
    "fig.add_trace(go.Scatter(x=list(train_acc_list_minibatch.keys()), y=list(train_acc_list_minibatch.values()), mode='lines+markers', name='Train Accuracy with Minibatch'))\n",
    "fig.add_trace(go.Scatter(x=list(test_acc_list_minibatch.keys()), y=list(test_acc_list_minibatch.values()), mode='lines+markers', name='Test Accuracy with Minibatch'))\n",
    "fig.update_layout(title='Train and Test Accuracy', xaxis_title='Iterations', yaxis_title='Accuracy')\n",
    "fig.show()        "
   ]
  }
 ],
 "metadata": {
  "kernelspec": {
   "display_name": ".venv",
   "language": "python",
   "name": "python3"
  },
  "language_info": {
   "codemirror_mode": {
    "name": "ipython",
    "version": 3
   },
   "file_extension": ".py",
   "mimetype": "text/x-python",
   "name": "python",
   "nbconvert_exporter": "python",
   "pygments_lexer": "ipython3",
   "version": "3.10.11"
  }
 },
 "nbformat": 4,
 "nbformat_minor": 2
}
