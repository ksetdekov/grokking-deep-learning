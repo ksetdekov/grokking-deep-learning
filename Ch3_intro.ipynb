{
  "cells": [
    {
      "cell_type": "markdown",
      "metadata": {
        "id": "view-in-github",
        "colab_type": "text"
      },
      "source": [
        "<a href=\"https://colab.research.google.com/github/ksetdekov/grokking-deep-learning/blob/master/Ch3_intro.ipynb\" target=\"_parent\"><img src=\"https://colab.research.google.com/assets/colab-badge.svg\" alt=\"Open In Colab\"/></a>"
      ]
    },
    {
      "cell_type": "markdown",
      "metadata": {
        "id": "hAh6io3mievH"
      },
      "source": [
        "# intro to nn"
      ]
    },
    {
      "cell_type": "markdown",
      "metadata": {
        "id": "4rE8cmJ9ievL"
      },
      "source": [
        "## multi input"
      ]
    },
    {
      "cell_type": "code",
      "execution_count": 1,
      "metadata": {
        "id": "s1lByYSBievM"
      },
      "outputs": [],
      "source": [
        "weights = [.1, .2, 0]\n",
        "def w_sum(a, b):\n",
        "    assert(len(a) == len(b))\n",
        "    output = 0\n",
        "    for i in range(len(a)):\n",
        "        output += (a[i] * b[i])\n",
        "    return output\n",
        "    \n",
        "def neural_network(input, weights):\n",
        "    pred = w_sum(input, weights)\n",
        "    return pred"
      ]
    },
    {
      "cell_type": "code",
      "execution_count": 2,
      "metadata": {
        "id": "4qLiuuMxievN"
      },
      "outputs": [],
      "source": [
        "toes = [8.5, 9.5, 9.9, 9]\n",
        "wlrec = [.65, .8, .8, .9]\n",
        "nfans = [1.2, 1.3, .5, 1.0]\n",
        "\n"
      ]
    },
    {
      "cell_type": "code",
      "execution_count": 3,
      "metadata": {
        "id": "MDy34YVBievO",
        "outputId": "a7e0c299-588c-4119-fc49-7f891ce57d01",
        "colab": {
          "base_uri": "https://localhost:8080/"
        }
      },
      "outputs": [
        {
          "output_type": "stream",
          "name": "stdout",
          "text": [
            "CPU times: user 13 µs, sys: 2 µs, total: 15 µs\n",
            "Wall time: 19.8 µs\n"
          ]
        }
      ],
      "source": [
        "%%time\n",
        "input = [toes[0], wlrec[0], nfans[0]]\n",
        "pred = neural_network(input=input, weights=weights)"
      ]
    },
    {
      "cell_type": "markdown",
      "metadata": {
        "id": "Niivth-PievP"
      },
      "source": [
        "## in numpy"
      ]
    },
    {
      "cell_type": "code",
      "execution_count": 4,
      "metadata": {
        "id": "Xys96ftWievP"
      },
      "outputs": [],
      "source": [
        "import numpy as np\n",
        "weights = np.array([.1, .2, 0])\n",
        "\n",
        "\n",
        "def neural_network(input, weights):\n",
        "    pred = input.dot(weights)\n",
        "    return pred\n",
        "\n",
        "toes = np.array([8.5, 9.5, 9.9, 9])\n",
        "wlrec = np.array([.65, .8, .8, .9])\n",
        "nfans = np.array([1.2, 1.3, .5, 1.0])\n",
        "\n"
      ]
    },
    {
      "cell_type": "code",
      "execution_count": 5,
      "metadata": {
        "id": "HVeVUwLeievQ",
        "outputId": "4e8569f6-bc0c-47cc-95fd-e8e8c5cf9314",
        "colab": {
          "base_uri": "https://localhost:8080/"
        }
      },
      "outputs": [
        {
          "output_type": "stream",
          "name": "stdout",
          "text": [
            "CPU times: user 74 µs, sys: 15 µs, total: 89 µs\n",
            "Wall time: 93.2 µs\n"
          ]
        }
      ],
      "source": [
        "%%time\n",
        "input = np.array([toes[0], wlrec[0], nfans[0]])\n",
        "pred = neural_network(input, weights)"
      ]
    },
    {
      "cell_type": "code",
      "execution_count": 6,
      "metadata": {
        "id": "uux3_geGievS",
        "outputId": "1de581b5-66e1-4b49-d2b2-3b2771eb64c7",
        "colab": {
          "base_uri": "https://localhost:8080/"
        }
      },
      "outputs": [
        {
          "output_type": "execute_result",
          "data": {
            "text/plain": [
              "0.9800000000000001"
            ]
          },
          "metadata": {},
          "execution_count": 6
        }
      ],
      "source": [
        "pred"
      ]
    },
    {
      "cell_type": "markdown",
      "source": [
        "## несколько выходов"
      ],
      "metadata": {
        "id": "7OJaoOG1m7KO"
      }
    },
    {
      "cell_type": "code",
      "source": [
        "weights = [.3, .2, .9]\n",
        "wlrec = [.65, .8, .8, .9]\n",
        "input = wlrec[0]\n",
        "\n",
        "def ele_mult(number, vector):\n",
        "    output = [0, 0, 0]\n",
        "    assert len(output) == len(vector)\n",
        "\n",
        "    for i in range(len(vector)):\n",
        "        output[i] = number * vector[i]\n",
        "    return output\n",
        "\n",
        "def neural_network(input, weights):\n",
        "    pred = ele_mult(input, weights)\n",
        "    return pred\n",
        "pred = neural_network(input, weights)"
      ],
      "metadata": {
        "id": "o7vy3y0fmdQN"
      },
      "execution_count": 7,
      "outputs": []
    },
    {
      "cell_type": "code",
      "source": [
        "pred"
      ],
      "metadata": {
        "id": "j26__D86nsEv",
        "outputId": "23dbb43c-5d3e-42f2-f862-ea692d2d4651",
        "colab": {
          "base_uri": "https://localhost:8080/"
        }
      },
      "execution_count": 8,
      "outputs": [
        {
          "output_type": "execute_result",
          "data": {
            "text/plain": [
              "[0.195, 0.13, 0.5850000000000001]"
            ]
          },
          "metadata": {},
          "execution_count": 8
        }
      ]
    },
    {
      "cell_type": "markdown",
      "source": [
        "## multi input and output"
      ],
      "metadata": {
        "id": "9NTRij4KoNmM"
      }
    },
    {
      "cell_type": "code",
      "source": [
        "weights = [[.1, .1, -0.3],\n",
        "           [.1, .2, .0],\n",
        "           [.0, 1.3, .1]]\n",
        "\n",
        "\n",
        "toes = [8.5, 9.5, 9.9, 9]\n",
        "wlrec = [.65, .8, .8, .9]\n",
        "nfans = [1.2, 1.3, .5, 1.0]\n",
        "\n",
        "def w_sum(a, b):\n",
        "    assert len(a) == len(b)\n",
        "    output = 0\n",
        "    for i in range(len(a)):\n",
        "        output += (a[i] * b[i])\n",
        "    return output\n",
        "\n",
        "def vect_mat_mult(vect, matrix):\n",
        "    assert len(vect) == len(matrix)\n",
        "    output = [0, 0, 0]\n",
        "    for i in range(len(vect)):\n",
        "        output[i] = w_sum(vect, matrix[i])\n",
        "    \n",
        "    return output\n",
        "\n",
        "def neural_network(input, weights):\n",
        "    pred = vect_mat_mult(input, weights)\n",
        "    return pred\n"
      ],
      "metadata": {
        "id": "fY4y_V3YoNQU"
      },
      "execution_count": 9,
      "outputs": []
    },
    {
      "cell_type": "code",
      "source": [
        "input = [toes[0], wlrec[0], nfans[0]]\n",
        "pred = neural_network(input=input, weights=weights)\n",
        "pred"
      ],
      "metadata": {
        "id": "GDM443x7ns9k",
        "outputId": "b7fc31f5-7051-4309-ce6b-67e51cb34bba",
        "colab": {
          "base_uri": "https://localhost:8080/"
        }
      },
      "execution_count": 10,
      "outputs": [
        {
          "output_type": "execute_result",
          "data": {
            "text/plain": [
              "[0.555, 0.9800000000000001, 0.9650000000000001]"
            ]
          },
          "metadata": {},
          "execution_count": 10
        }
      ]
    },
    {
      "cell_type": "code",
      "source": [
        ""
      ],
      "metadata": {
        "id": "LfVyW0VjpZaO"
      },
      "execution_count": null,
      "outputs": []
    }
  ],
  "metadata": {
    "kernelspec": {
      "display_name": "Python 3.8.5 ('base')",
      "language": "python",
      "name": "python3"
    },
    "language_info": {
      "codemirror_mode": {
        "name": "ipython",
        "version": 3
      },
      "file_extension": ".py",
      "mimetype": "text/x-python",
      "name": "python",
      "nbconvert_exporter": "python",
      "pygments_lexer": "ipython3",
      "version": "3.8.5"
    },
    "orig_nbformat": 4,
    "vscode": {
      "interpreter": {
        "hash": "7819c10e826f101f714d5052b24923401c5c649a72b37339fc54de3d4f54b8e1"
      }
    },
    "colab": {
      "provenance": [],
      "include_colab_link": true
    }
  },
  "nbformat": 4,
  "nbformat_minor": 0
}